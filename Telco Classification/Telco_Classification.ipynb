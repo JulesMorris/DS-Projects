{
 "cells": [
  {
   "cell_type": "markdown",
   "id": "4d3400f9",
   "metadata": {},
   "source": [
    "<br>\n",
    "<div style=\"text-align: right;font-family: fantasy;\">Jules Morris<br>May 2022</div>"
   ]
  },
  {
   "cell_type": "code",
   "execution_count": 1,
   "id": "04dfb1b6",
   "metadata": {},
   "outputs": [
    {
     "name": "stdout",
     "output_type": "stream",
     "text": [
      "Using cached csv\n"
     ]
    }
   ],
   "source": [
    "from imports_telco import *"
   ]
  },
  {
   "cell_type": "markdown",
   "id": "99ddb1b1",
   "metadata": {},
   "source": [
    "<h1 style=\"border-bottom: 10px groove maroon; margin-top: 1px; margin-bottom: 1px\">Times, they are a'churning</h1>"
   ]
  },
  {
   "cell_type": "markdown",
   "id": "342840ac",
   "metadata": {},
   "source": [
    "<img src= \"telco.png\"/>"
   ]
  },
  {
   "cell_type": "markdown",
   "id": "bfb02ace",
   "metadata": {},
   "source": [
    "<hr style=\"border-top: 10px groove maroon; margin-top: 1px; margin-bottom: 1px\"></hr>"
   ]
  },
  {
   "cell_type": "markdown",
   "id": "ea72e87f",
   "metadata": {},
   "source": [
    "# Project Planning"
   ]
  },
  {
   "cell_type": "markdown",
   "id": "343878c0",
   "metadata": {},
   "source": [
    "   - Acquire data from the Codeup Database and store the process as a function for replication. Save the function in an acquire.py file to import into the Final Report Notebook.\n",
    "   - View data to gain understanding of the dataset and to create the read.   \n",
    "   - Create README.md with data dictionary, project and business goals, come up with initial hypotheses.   \n",
    "   - Clean and prepare data for the first iteration through the data pipeline. Store this as a function to automate the process, store the function in a prepare.py module, and prepare data in Final Report Notebook by importing and using the funtion.\n",
    "   - Clearly define two hypotheses, set an alpha, run the statistical tests needed, reject or fail to reject the Null Hypothesis, and document findings and takeaways.\n",
    "   - Establish a baseline accuracy and document well.\n",
    "   - Train four different classification models.\n",
    "   - Evaluate models on train and validate datasets.\n",
    "   - Choose the model with that performs the best and evaluate that single model on the test dataset.\n",
    "   - Create csv file with the target variable, the probability of churn, and the model's prediction for each observation in the test dataset.\n",
    "   - Document executive summary, conclusions, takeaways, and next steps in the Final Report Notebook.\n"
   ]
  },
  {
   "cell_type": "markdown",
   "id": "dc0d7fda",
   "metadata": {},
   "source": [
    "<hr style=\"border-top: 10px groove lightsteelblue; margin-top: 1px; margin-bottom: 1px\"></hr>"
   ]
  },
  {
   "cell_type": "markdown",
   "id": "b778f5e8",
   "metadata": {
    "hide_input": true
   },
   "source": [
    "# Executive Summary\n",
    "\n",
    "- The classification models performed similarly, with minor adjustments to the features of Logistic Regression resulting in the highest recall and accuracy score.\n",
    "    - The features included in this model:\n",
    "        - Fiber optic internet service\n",
    "        - Electronic check payment\n",
    "        - Tenure\n",
    "\n",
    "- With a primary goal of discovering drivers of churn, accuracy and recall were the most impactful measure for this purpose.\n",
    "\n",
    "- The model outperformed the baseline accuracy.\n",
    "\n",
    "- Several insights and statistical testing during the exploratory data analysis revealed that the stereotypical profile for churners had consistencies with some of the features most postively correlated with churn."
   ]
  },
  {
   "cell_type": "markdown",
   "id": "e83c5a95",
   "metadata": {},
   "source": [
    "<h1 style=\"border-bottom: 10px groove lightsteelblue; margin-top: 1px; margin-bottom: 1px\">Acquisition</h1>"
   ]
  },
  {
   "cell_type": "code",
   "execution_count": 2,
   "id": "8f31a25f",
   "metadata": {
    "hide_input": false,
    "scrolled": false
   },
   "outputs": [
    {
     "name": "stdout",
     "output_type": "stream",
     "text": [
      "Using cached csv\n"
     ]
    },
    {
     "data": {
      "text/html": [
       "<div>\n",
       "<style scoped>\n",
       "    .dataframe tbody tr th:only-of-type {\n",
       "        vertical-align: middle;\n",
       "    }\n",
       "\n",
       "    .dataframe tbody tr th {\n",
       "        vertical-align: top;\n",
       "    }\n",
       "\n",
       "    .dataframe thead th {\n",
       "        text-align: right;\n",
       "    }\n",
       "</style>\n",
       "<table border=\"1\" class=\"dataframe\">\n",
       "  <thead>\n",
       "    <tr style=\"text-align: right;\">\n",
       "      <th></th>\n",
       "      <th>payment_type_id</th>\n",
       "      <th>contract_type_id</th>\n",
       "      <th>internet_service_type_id</th>\n",
       "      <th>customer_id</th>\n",
       "      <th>gender</th>\n",
       "      <th>senior_citizen</th>\n",
       "      <th>partner</th>\n",
       "      <th>dependents</th>\n",
       "      <th>tenure</th>\n",
       "      <th>phone_service</th>\n",
       "      <th>...</th>\n",
       "      <th>tech_support</th>\n",
       "      <th>streaming_tv</th>\n",
       "      <th>streaming_movies</th>\n",
       "      <th>paperless_billing</th>\n",
       "      <th>monthly_charges</th>\n",
       "      <th>total_charges</th>\n",
       "      <th>churn</th>\n",
       "      <th>internet_service_type</th>\n",
       "      <th>contract_type</th>\n",
       "      <th>payment_type</th>\n",
       "    </tr>\n",
       "  </thead>\n",
       "  <tbody>\n",
       "    <tr>\n",
       "      <th>0</th>\n",
       "      <td>2</td>\n",
       "      <td>2</td>\n",
       "      <td>1</td>\n",
       "      <td>0002-ORFBO</td>\n",
       "      <td>Female</td>\n",
       "      <td>0</td>\n",
       "      <td>Yes</td>\n",
       "      <td>Yes</td>\n",
       "      <td>9</td>\n",
       "      <td>Yes</td>\n",
       "      <td>...</td>\n",
       "      <td>Yes</td>\n",
       "      <td>Yes</td>\n",
       "      <td>No</td>\n",
       "      <td>Yes</td>\n",
       "      <td>65.6</td>\n",
       "      <td>593.3</td>\n",
       "      <td>No</td>\n",
       "      <td>DSL</td>\n",
       "      <td>One year</td>\n",
       "      <td>Mailed check</td>\n",
       "    </tr>\n",
       "    <tr>\n",
       "      <th>1</th>\n",
       "      <td>2</td>\n",
       "      <td>1</td>\n",
       "      <td>1</td>\n",
       "      <td>0003-MKNFE</td>\n",
       "      <td>Male</td>\n",
       "      <td>0</td>\n",
       "      <td>No</td>\n",
       "      <td>No</td>\n",
       "      <td>9</td>\n",
       "      <td>Yes</td>\n",
       "      <td>...</td>\n",
       "      <td>No</td>\n",
       "      <td>No</td>\n",
       "      <td>Yes</td>\n",
       "      <td>No</td>\n",
       "      <td>59.9</td>\n",
       "      <td>542.4</td>\n",
       "      <td>No</td>\n",
       "      <td>DSL</td>\n",
       "      <td>Month-to-month</td>\n",
       "      <td>Mailed check</td>\n",
       "    </tr>\n",
       "    <tr>\n",
       "      <th>2</th>\n",
       "      <td>1</td>\n",
       "      <td>1</td>\n",
       "      <td>2</td>\n",
       "      <td>0004-TLHLJ</td>\n",
       "      <td>Male</td>\n",
       "      <td>0</td>\n",
       "      <td>No</td>\n",
       "      <td>No</td>\n",
       "      <td>4</td>\n",
       "      <td>Yes</td>\n",
       "      <td>...</td>\n",
       "      <td>No</td>\n",
       "      <td>No</td>\n",
       "      <td>No</td>\n",
       "      <td>Yes</td>\n",
       "      <td>73.9</td>\n",
       "      <td>280.85</td>\n",
       "      <td>Yes</td>\n",
       "      <td>Fiber optic</td>\n",
       "      <td>Month-to-month</td>\n",
       "      <td>Electronic check</td>\n",
       "    </tr>\n",
       "    <tr>\n",
       "      <th>3</th>\n",
       "      <td>1</td>\n",
       "      <td>1</td>\n",
       "      <td>2</td>\n",
       "      <td>0011-IGKFF</td>\n",
       "      <td>Male</td>\n",
       "      <td>1</td>\n",
       "      <td>Yes</td>\n",
       "      <td>No</td>\n",
       "      <td>13</td>\n",
       "      <td>Yes</td>\n",
       "      <td>...</td>\n",
       "      <td>No</td>\n",
       "      <td>Yes</td>\n",
       "      <td>Yes</td>\n",
       "      <td>Yes</td>\n",
       "      <td>98.0</td>\n",
       "      <td>1237.85</td>\n",
       "      <td>Yes</td>\n",
       "      <td>Fiber optic</td>\n",
       "      <td>Month-to-month</td>\n",
       "      <td>Electronic check</td>\n",
       "    </tr>\n",
       "    <tr>\n",
       "      <th>4</th>\n",
       "      <td>2</td>\n",
       "      <td>1</td>\n",
       "      <td>2</td>\n",
       "      <td>0013-EXCHZ</td>\n",
       "      <td>Female</td>\n",
       "      <td>1</td>\n",
       "      <td>Yes</td>\n",
       "      <td>No</td>\n",
       "      <td>3</td>\n",
       "      <td>Yes</td>\n",
       "      <td>...</td>\n",
       "      <td>Yes</td>\n",
       "      <td>Yes</td>\n",
       "      <td>No</td>\n",
       "      <td>Yes</td>\n",
       "      <td>83.9</td>\n",
       "      <td>267.4</td>\n",
       "      <td>Yes</td>\n",
       "      <td>Fiber optic</td>\n",
       "      <td>Month-to-month</td>\n",
       "      <td>Mailed check</td>\n",
       "    </tr>\n",
       "  </tbody>\n",
       "</table>\n",
       "<p>5 rows × 24 columns</p>\n",
       "</div>"
      ],
      "text/plain": [
       "   payment_type_id  contract_type_id  internet_service_type_id customer_id  \\\n",
       "0                2                 2                         1  0002-ORFBO   \n",
       "1                2                 1                         1  0003-MKNFE   \n",
       "2                1                 1                         2  0004-TLHLJ   \n",
       "3                1                 1                         2  0011-IGKFF   \n",
       "4                2                 1                         2  0013-EXCHZ   \n",
       "\n",
       "   gender  senior_citizen partner dependents  tenure phone_service  ...  \\\n",
       "0  Female               0     Yes        Yes       9           Yes  ...   \n",
       "1    Male               0      No         No       9           Yes  ...   \n",
       "2    Male               0      No         No       4           Yes  ...   \n",
       "3    Male               1     Yes         No      13           Yes  ...   \n",
       "4  Female               1     Yes         No       3           Yes  ...   \n",
       "\n",
       "  tech_support streaming_tv streaming_movies paperless_billing  \\\n",
       "0          Yes          Yes               No               Yes   \n",
       "1           No           No              Yes                No   \n",
       "2           No           No               No               Yes   \n",
       "3           No          Yes              Yes               Yes   \n",
       "4          Yes          Yes               No               Yes   \n",
       "\n",
       "  monthly_charges total_charges churn internet_service_type   contract_type  \\\n",
       "0            65.6         593.3    No                   DSL        One year   \n",
       "1            59.9         542.4    No                   DSL  Month-to-month   \n",
       "2            73.9        280.85   Yes           Fiber optic  Month-to-month   \n",
       "3            98.0       1237.85   Yes           Fiber optic  Month-to-month   \n",
       "4            83.9         267.4   Yes           Fiber optic  Month-to-month   \n",
       "\n",
       "       payment_type  \n",
       "0      Mailed check  \n",
       "1      Mailed check  \n",
       "2  Electronic check  \n",
       "3  Electronic check  \n",
       "4      Mailed check  \n",
       "\n",
       "[5 rows x 24 columns]"
      ]
     },
     "execution_count": 2,
     "metadata": {},
     "output_type": "execute_result"
    }
   ],
   "source": [
    "df = acquire2.get_telco_data(use_cache = True)\n",
    "df.head()"
   ]
  },
  {
   "cell_type": "markdown",
   "id": "66710b82",
   "metadata": {},
   "source": [
    "#### Takeaways:\n",
    "- Will use a prepare file to drop payment_type_id, contract_type_id, and internet_service_type_id\n",
    "- After confirming that customer_id is all unique values using, **df.customer_id.unique().shape**, will use prepare file to set it as the index\n",
    "- Change senior_citizen to categorical for continuity in categorical variables\n",
    "- Will use prepare file to obtain dummy variables \n",
    "- Will use prepare file to ensure lowercase snake_case format \n",
    "- Will eliminate '(automatic)' from payment types for plot label ease\n",
    "- Will use replace to reduce likelihood of multicolinearity in eventual dummy variables"
   ]
  },
  {
   "cell_type": "markdown",
   "id": "501735dd",
   "metadata": {},
   "source": [
    "<h1 style=\"border-bottom: 10px groove lightsteelblue; margin-top: 1px; margin-bottom: 1px\">Data Preparation</h1>"
   ]
  },
  {
   "cell_type": "code",
   "execution_count": 3,
   "id": "c2800933",
   "metadata": {
    "hide_input": false,
    "scrolled": true
   },
   "outputs": [
    {
     "data": {
      "text/html": [
       "<div>\n",
       "<style scoped>\n",
       "    .dataframe tbody tr th:only-of-type {\n",
       "        vertical-align: middle;\n",
       "    }\n",
       "\n",
       "    .dataframe tbody tr th {\n",
       "        vertical-align: top;\n",
       "    }\n",
       "\n",
       "    .dataframe thead th {\n",
       "        text-align: right;\n",
       "    }\n",
       "</style>\n",
       "<table border=\"1\" class=\"dataframe\">\n",
       "  <thead>\n",
       "    <tr style=\"text-align: right;\">\n",
       "      <th></th>\n",
       "      <th>gender</th>\n",
       "      <th>senior_citizen</th>\n",
       "      <th>partner</th>\n",
       "      <th>dependents</th>\n",
       "      <th>tenure</th>\n",
       "      <th>phone_service</th>\n",
       "      <th>multiple_lines</th>\n",
       "      <th>online_security</th>\n",
       "      <th>online_backup</th>\n",
       "      <th>device_protection</th>\n",
       "      <th>...</th>\n",
       "      <th>tech_support_yes</th>\n",
       "      <th>streaming_tv_yes</th>\n",
       "      <th>streaming_movies_yes</th>\n",
       "      <th>contract_type_one_year</th>\n",
       "      <th>contract_type_two_year</th>\n",
       "      <th>internet_service_type_fiber_optic</th>\n",
       "      <th>internet_service_type_none</th>\n",
       "      <th>payment_type_credit_card</th>\n",
       "      <th>payment_type_electronic_check</th>\n",
       "      <th>payment_type_mailed_check</th>\n",
       "    </tr>\n",
       "    <tr>\n",
       "      <th>customer_id</th>\n",
       "      <th></th>\n",
       "      <th></th>\n",
       "      <th></th>\n",
       "      <th></th>\n",
       "      <th></th>\n",
       "      <th></th>\n",
       "      <th></th>\n",
       "      <th></th>\n",
       "      <th></th>\n",
       "      <th></th>\n",
       "      <th></th>\n",
       "      <th></th>\n",
       "      <th></th>\n",
       "      <th></th>\n",
       "      <th></th>\n",
       "      <th></th>\n",
       "      <th></th>\n",
       "      <th></th>\n",
       "      <th></th>\n",
       "      <th></th>\n",
       "      <th></th>\n",
       "    </tr>\n",
       "  </thead>\n",
       "  <tbody>\n",
       "    <tr>\n",
       "      <th>8331-ZXFOE</th>\n",
       "      <td>Female</td>\n",
       "      <td>No</td>\n",
       "      <td>No</td>\n",
       "      <td>No</td>\n",
       "      <td>58</td>\n",
       "      <td>Yes</td>\n",
       "      <td>Yes</td>\n",
       "      <td>Yes</td>\n",
       "      <td>Yes</td>\n",
       "      <td>Yes</td>\n",
       "      <td>...</td>\n",
       "      <td>1</td>\n",
       "      <td>0</td>\n",
       "      <td>0</td>\n",
       "      <td>1</td>\n",
       "      <td>0</td>\n",
       "      <td>0</td>\n",
       "      <td>0</td>\n",
       "      <td>1</td>\n",
       "      <td>0</td>\n",
       "      <td>0</td>\n",
       "    </tr>\n",
       "    <tr>\n",
       "      <th>2790-XUYMV</th>\n",
       "      <td>Male</td>\n",
       "      <td>No</td>\n",
       "      <td>No</td>\n",
       "      <td>Yes</td>\n",
       "      <td>71</td>\n",
       "      <td>Yes</td>\n",
       "      <td>Yes</td>\n",
       "      <td>Yes</td>\n",
       "      <td>Yes</td>\n",
       "      <td>No</td>\n",
       "      <td>...</td>\n",
       "      <td>0</td>\n",
       "      <td>0</td>\n",
       "      <td>0</td>\n",
       "      <td>1</td>\n",
       "      <td>0</td>\n",
       "      <td>1</td>\n",
       "      <td>0</td>\n",
       "      <td>1</td>\n",
       "      <td>0</td>\n",
       "      <td>0</td>\n",
       "    </tr>\n",
       "    <tr>\n",
       "      <th>7107-UBYKY</th>\n",
       "      <td>Female</td>\n",
       "      <td>No</td>\n",
       "      <td>Yes</td>\n",
       "      <td>Yes</td>\n",
       "      <td>35</td>\n",
       "      <td>Yes</td>\n",
       "      <td>Yes</td>\n",
       "      <td>No</td>\n",
       "      <td>No</td>\n",
       "      <td>No</td>\n",
       "      <td>...</td>\n",
       "      <td>0</td>\n",
       "      <td>0</td>\n",
       "      <td>0</td>\n",
       "      <td>0</td>\n",
       "      <td>0</td>\n",
       "      <td>0</td>\n",
       "      <td>1</td>\n",
       "      <td>0</td>\n",
       "      <td>1</td>\n",
       "      <td>0</td>\n",
       "    </tr>\n",
       "    <tr>\n",
       "      <th>3373-YZZYM</th>\n",
       "      <td>Male</td>\n",
       "      <td>No</td>\n",
       "      <td>Yes</td>\n",
       "      <td>Yes</td>\n",
       "      <td>1</td>\n",
       "      <td>Yes</td>\n",
       "      <td>No</td>\n",
       "      <td>No</td>\n",
       "      <td>No</td>\n",
       "      <td>No</td>\n",
       "      <td>...</td>\n",
       "      <td>0</td>\n",
       "      <td>0</td>\n",
       "      <td>0</td>\n",
       "      <td>0</td>\n",
       "      <td>0</td>\n",
       "      <td>0</td>\n",
       "      <td>1</td>\n",
       "      <td>0</td>\n",
       "      <td>0</td>\n",
       "      <td>1</td>\n",
       "    </tr>\n",
       "    <tr>\n",
       "      <th>8883-GRDWQ</th>\n",
       "      <td>Male</td>\n",
       "      <td>Yes</td>\n",
       "      <td>No</td>\n",
       "      <td>No</td>\n",
       "      <td>20</td>\n",
       "      <td>Yes</td>\n",
       "      <td>No</td>\n",
       "      <td>Yes</td>\n",
       "      <td>No</td>\n",
       "      <td>No</td>\n",
       "      <td>...</td>\n",
       "      <td>1</td>\n",
       "      <td>0</td>\n",
       "      <td>0</td>\n",
       "      <td>1</td>\n",
       "      <td>0</td>\n",
       "      <td>0</td>\n",
       "      <td>0</td>\n",
       "      <td>0</td>\n",
       "      <td>0</td>\n",
       "      <td>1</td>\n",
       "    </tr>\n",
       "  </tbody>\n",
       "</table>\n",
       "<p>5 rows × 41 columns</p>\n",
       "</div>"
      ],
      "text/plain": [
       "             gender senior_citizen partner dependents  tenure phone_service  \\\n",
       "customer_id                                                                   \n",
       "8331-ZXFOE   Female             No      No         No      58           Yes   \n",
       "2790-XUYMV     Male             No      No        Yes      71           Yes   \n",
       "7107-UBYKY   Female             No     Yes        Yes      35           Yes   \n",
       "3373-YZZYM     Male             No     Yes        Yes       1           Yes   \n",
       "8883-GRDWQ     Male            Yes      No         No      20           Yes   \n",
       "\n",
       "            multiple_lines online_security online_backup device_protection  \\\n",
       "customer_id                                                                  \n",
       "8331-ZXFOE             Yes             Yes           Yes               Yes   \n",
       "2790-XUYMV             Yes             Yes           Yes                No   \n",
       "7107-UBYKY             Yes              No            No                No   \n",
       "3373-YZZYM              No              No            No                No   \n",
       "8883-GRDWQ              No             Yes            No                No   \n",
       "\n",
       "             ... tech_support_yes streaming_tv_yes streaming_movies_yes  \\\n",
       "customer_id  ...                                                          \n",
       "8331-ZXFOE   ...                1                0                    0   \n",
       "2790-XUYMV   ...                0                0                    0   \n",
       "7107-UBYKY   ...                0                0                    0   \n",
       "3373-YZZYM   ...                0                0                    0   \n",
       "8883-GRDWQ   ...                1                0                    0   \n",
       "\n",
       "            contract_type_one_year  contract_type_two_year  \\\n",
       "customer_id                                                  \n",
       "8331-ZXFOE                       1                       0   \n",
       "2790-XUYMV                       1                       0   \n",
       "7107-UBYKY                       0                       0   \n",
       "3373-YZZYM                       0                       0   \n",
       "8883-GRDWQ                       1                       0   \n",
       "\n",
       "             internet_service_type_fiber_optic internet_service_type_none  \\\n",
       "customer_id                                                                 \n",
       "8331-ZXFOE                                   0                          0   \n",
       "2790-XUYMV                                   1                          0   \n",
       "7107-UBYKY                                   0                          1   \n",
       "3373-YZZYM                                   0                          1   \n",
       "8883-GRDWQ                                   0                          0   \n",
       "\n",
       "            payment_type_credit_card payment_type_electronic_check  \\\n",
       "customer_id                                                          \n",
       "8331-ZXFOE                         1                             0   \n",
       "2790-XUYMV                         1                             0   \n",
       "7107-UBYKY                         0                             1   \n",
       "3373-YZZYM                         0                             0   \n",
       "8883-GRDWQ                         0                             0   \n",
       "\n",
       "            payment_type_mailed_check  \n",
       "customer_id                            \n",
       "8331-ZXFOE                          0  \n",
       "2790-XUYMV                          0  \n",
       "7107-UBYKY                          0  \n",
       "3373-YZZYM                          1  \n",
       "8883-GRDWQ                          1  \n",
       "\n",
       "[5 rows x 41 columns]"
      ]
     },
     "execution_count": 3,
     "metadata": {},
     "output_type": "execute_result"
    }
   ],
   "source": [
    "telco_df = prepare3.prep_telco_data(df)\n",
    "train, test, validate = telco_df\n",
    "train.head()"
   ]
  },
  {
   "cell_type": "markdown",
   "id": "f809befa",
   "metadata": {},
   "source": [
    "<hr style=\"border-top: 10px groove lightsteelblue; margin-top: 1px; margin-bottom: 1px\"></hr>"
   ]
  },
  {
   "cell_type": "markdown",
   "id": "fea1890d",
   "metadata": {},
   "source": [
    "<h1 style=\"border-bottom: 10px groove lightsteelblue; margin-top: 1px; margin-bottom: 1px\">Exploration</h1>"
   ]
  },
  {
   "cell_type": "code",
   "execution_count": 4,
   "id": "d04d7c33",
   "metadata": {},
   "outputs": [
    {
     "data": {
      "image/png": "[encoded data removed]",
      "text/plain": [
       "<Figure size 576x432 with 1 Axes>"
      ]
     },
     "metadata": {},
     "output_type": "display_data"
    }
   ],
   "source": [
    "visuals_telco.viz1()"
   ]
  },
  {
   "cell_type": "markdown",
   "id": "3936de88",
   "metadata": {},
   "source": [
    "#### Takeaways:\n",
    "- Churn represents roughly 27% of overall customers, since new customer acquisitions represents substantial costs, finding drivers of churn is crucial to improving the bottom line.\n",
    "- Since churn is significant, finding churn probability and using preliminary findings to guide further analysis before modeling will be the approach taken."
   ]
  },
  {
   "cell_type": "markdown",
   "id": "1a863d6c",
   "metadata": {},
   "source": [
    "<hr style=\"border-top: 10px groove lightsteelblue; margin-top: 1px; margin-bottom: 1px\"></hr>"
   ]
  },
  {
   "cell_type": "markdown",
   "id": "a0af09f3",
   "metadata": {
    "hide_input": true
   },
   "source": [
    "### Drivers of Churn"
   ]
  },
  {
   "cell_type": "code",
   "execution_count": 5,
   "id": "098156a2",
   "metadata": {},
   "outputs": [
    {
     "data": {
      "text/html": [
       "<style type=\"text/css\">\n",
       "#T_ff139_row0_col1, #T_ff139_row37_col2 {\n",
       "  background-color: #023858;\n",
       "  color: #f1f1f1;\n",
       "}\n",
       "#T_ff139_row0_col2, #T_ff139_row37_col1 {\n",
       "  background-color: #fff7fb;\n",
       "  color: #000000;\n",
       "}\n",
       "#T_ff139_row1_col1 {\n",
       "  background-color: #03466e;\n",
       "  color: #f1f1f1;\n",
       "}\n",
       "#T_ff139_row1_col2, #T_ff139_row2_col2, #T_ff139_row3_col2 {\n",
       "  background-color: #f7f0f7;\n",
       "  color: #000000;\n",
       "}\n",
       "#T_ff139_row2_col1, #T_ff139_row3_col1 {\n",
       "  background-color: #03476f;\n",
       "  color: #f1f1f1;\n",
       "}\n",
       "#T_ff139_row4_col1 {\n",
       "  background-color: #0f76b3;\n",
       "  color: #f1f1f1;\n",
       "}\n",
       "#T_ff139_row4_col2 {\n",
       "  background-color: #c8cde4;\n",
       "  color: #000000;\n",
       "}\n",
       "#T_ff139_row5_col1, #T_ff139_row33_col2 {\n",
       "  background-color: #167bb6;\n",
       "  color: #f1f1f1;\n",
       "}\n",
       "#T_ff139_row5_col2, #T_ff139_row33_col1 {\n",
       "  background-color: #c1cae2;\n",
       "  color: #000000;\n",
       "}\n",
       "#T_ff139_row6_col1, #T_ff139_row30_col2 {\n",
       "  background-color: #2081b9;\n",
       "  color: #f1f1f1;\n",
       "}\n",
       "#T_ff139_row6_col2, #T_ff139_row30_col1 {\n",
       "  background-color: #b9c6e0;\n",
       "  color: #000000;\n",
       "}\n",
       "#T_ff139_row7_col1 {\n",
       "  background-color: #2383ba;\n",
       "  color: #f1f1f1;\n",
       "}\n",
       "#T_ff139_row7_col2 {\n",
       "  background-color: #b7c5df;\n",
       "  color: #000000;\n",
       "}\n",
       "#T_ff139_row8_col1 {\n",
       "  background-color: #2685bb;\n",
       "  color: #f1f1f1;\n",
       "}\n",
       "#T_ff139_row8_col2 {\n",
       "  background-color: #b4c4df;\n",
       "  color: #000000;\n",
       "}\n",
       "#T_ff139_row9_col1 {\n",
       "  background-color: #358fc0;\n",
       "  color: #f1f1f1;\n",
       "}\n",
       "#T_ff139_row9_col2 {\n",
       "  background-color: #a7bddb;\n",
       "  color: #000000;\n",
       "}\n",
       "#T_ff139_row10_col1 {\n",
       "  background-color: #3790c0;\n",
       "  color: #f1f1f1;\n",
       "}\n",
       "#T_ff139_row10_col2 {\n",
       "  background-color: #a5bddb;\n",
       "  color: #000000;\n",
       "}\n",
       "#T_ff139_row11_col1, #T_ff139_row12_col1, #T_ff139_row13_col1 {\n",
       "  background-color: #3d93c2;\n",
       "  color: #f1f1f1;\n",
       "}\n",
       "#T_ff139_row11_col2, #T_ff139_row12_col2, #T_ff139_row13_col2 {\n",
       "  background-color: #a1bbda;\n",
       "  color: #000000;\n",
       "}\n",
       "#T_ff139_row14_col1 {\n",
       "  background-color: #4094c3;\n",
       "  color: #f1f1f1;\n",
       "}\n",
       "#T_ff139_row14_col2 {\n",
       "  background-color: #9ebad9;\n",
       "  color: #000000;\n",
       "}\n",
       "#T_ff139_row15_col1 {\n",
       "  background-color: #549cc7;\n",
       "  color: #f1f1f1;\n",
       "}\n",
       "#T_ff139_row15_col2 {\n",
       "  background-color: #8eb3d5;\n",
       "  color: #000000;\n",
       "}\n",
       "#T_ff139_row16_col1, #T_ff139_row17_col1 {\n",
       "  background-color: #569dc8;\n",
       "  color: #f1f1f1;\n",
       "}\n",
       "#T_ff139_row16_col2, #T_ff139_row17_col2 {\n",
       "  background-color: #8cb3d5;\n",
       "  color: #000000;\n",
       "}\n",
       "#T_ff139_row18_col1 {\n",
       "  background-color: #67a4cc;\n",
       "  color: #f1f1f1;\n",
       "}\n",
       "#T_ff139_row18_col2 {\n",
       "  background-color: #7eadd1;\n",
       "  color: #f1f1f1;\n",
       "}\n",
       "#T_ff139_row19_col1, #T_ff139_row22_col2 {\n",
       "  background-color: #6da6cd;\n",
       "  color: #f1f1f1;\n",
       "}\n",
       "#T_ff139_row19_col2, #T_ff139_row22_col1 {\n",
       "  background-color: #79abd0;\n",
       "  color: #f1f1f1;\n",
       "}\n",
       "#T_ff139_row20_col1 {\n",
       "  background-color: #6fa7ce;\n",
       "  color: #f1f1f1;\n",
       "}\n",
       "#T_ff139_row20_col2 {\n",
       "  background-color: #78abd0;\n",
       "  color: #f1f1f1;\n",
       "}\n",
       "#T_ff139_row21_col1 {\n",
       "  background-color: #71a8ce;\n",
       "  color: #f1f1f1;\n",
       "}\n",
       "#T_ff139_row21_col2 {\n",
       "  background-color: #76aad0;\n",
       "  color: #f1f1f1;\n",
       "}\n",
       "#T_ff139_row23_col1 {\n",
       "  background-color: #80aed2;\n",
       "  color: #f1f1f1;\n",
       "}\n",
       "#T_ff139_row23_col2 {\n",
       "  background-color: #65a3cb;\n",
       "  color: #f1f1f1;\n",
       "}\n",
       "#T_ff139_row24_col1, #T_ff139_row25_col1 {\n",
       "  background-color: #84b0d3;\n",
       "  color: #f1f1f1;\n",
       "}\n",
       "#T_ff139_row24_col2, #T_ff139_row25_col2 {\n",
       "  background-color: #60a1ca;\n",
       "  color: #f1f1f1;\n",
       "}\n",
       "#T_ff139_row26_col1 {\n",
       "  background-color: #9ab8d8;\n",
       "  color: #000000;\n",
       "}\n",
       "#T_ff139_row26_col2 {\n",
       "  background-color: #4496c3;\n",
       "  color: #f1f1f1;\n",
       "}\n",
       "#T_ff139_row27_col1 {\n",
       "  background-color: #a2bcda;\n",
       "  color: #000000;\n",
       "}\n",
       "#T_ff139_row27_col2 {\n",
       "  background-color: #3b92c1;\n",
       "  color: #f1f1f1;\n",
       "}\n",
       "#T_ff139_row28_col1 {\n",
       "  background-color: #abbfdc;\n",
       "  color: #000000;\n",
       "}\n",
       "#T_ff139_row28_col2 {\n",
       "  background-color: #308cbe;\n",
       "  color: #f1f1f1;\n",
       "}\n",
       "#T_ff139_row29_col1 {\n",
       "  background-color: #b3c3de;\n",
       "  color: #000000;\n",
       "}\n",
       "#T_ff139_row29_col2 {\n",
       "  background-color: #2786bb;\n",
       "  color: #f1f1f1;\n",
       "}\n",
       "#T_ff139_row31_col1 {\n",
       "  background-color: #bcc7e1;\n",
       "  color: #000000;\n",
       "}\n",
       "#T_ff139_row31_col2 {\n",
       "  background-color: #1c7fb8;\n",
       "  color: #f1f1f1;\n",
       "}\n",
       "#T_ff139_row32_col1 {\n",
       "  background-color: #c0c9e2;\n",
       "  color: #000000;\n",
       "}\n",
       "#T_ff139_row32_col2 {\n",
       "  background-color: #187cb6;\n",
       "  color: #f1f1f1;\n",
       "}\n",
       "#T_ff139_row34_col1 {\n",
       "  background-color: #cccfe5;\n",
       "  color: #000000;\n",
       "}\n",
       "#T_ff139_row34_col2 {\n",
       "  background-color: #0a73b2;\n",
       "  color: #f1f1f1;\n",
       "}\n",
       "#T_ff139_row35_col1 {\n",
       "  background-color: #dfddec;\n",
       "  color: #000000;\n",
       "}\n",
       "#T_ff139_row35_col2 {\n",
       "  background-color: #04649e;\n",
       "  color: #f1f1f1;\n",
       "}\n",
       "#T_ff139_row36_col1 {\n",
       "  background-color: #f0eaf4;\n",
       "  color: #000000;\n",
       "}\n",
       "#T_ff139_row36_col2 {\n",
       "  background-color: #045382;\n",
       "  color: #f1f1f1;\n",
       "}\n",
       "</style>\n",
       "<table id=\"T_ff139\">\n",
       "  <thead>\n",
       "    <tr>\n",
       "      <th class=\"blank level0\" >&nbsp;</th>\n",
       "      <th id=\"T_ff139_level0_col0\" class=\"col_heading level0 col0\" >attribute</th>\n",
       "      <th id=\"T_ff139_level0_col1\" class=\"col_heading level0 col1\" >churn</th>\n",
       "      <th id=\"T_ff139_level0_col2\" class=\"col_heading level0 col2\" >retain</th>\n",
       "    </tr>\n",
       "  </thead>\n",
       "  <tbody>\n",
       "    <tr>\n",
       "      <th id=\"T_ff139_level0_row0\" class=\"row_heading level0 row0\" >0</th>\n",
       "      <td id=\"T_ff139_row0_col0\" class=\"data row0 col0\" >Payment Type (Electronic check)</td>\n",
       "      <td id=\"T_ff139_row0_col1\" class=\"data row0 col1\" >0.450737</td>\n",
       "      <td id=\"T_ff139_row0_col2\" class=\"data row0 col2\" >0.549263</td>\n",
       "    </tr>\n",
       "    <tr>\n",
       "      <th id=\"T_ff139_level0_row1\" class=\"row_heading level0 row1\" >1</th>\n",
       "      <td id=\"T_ff139_row1_col0\" class=\"data row1 col0\" >Contract Type (Month-to-month)</td>\n",
       "      <td id=\"T_ff139_row1_col1\" class=\"data row1 col1\" >0.428176</td>\n",
       "      <td id=\"T_ff139_row1_col2\" class=\"data row1 col2\" >0.571824</td>\n",
       "    </tr>\n",
       "    <tr>\n",
       "      <th id=\"T_ff139_level0_row2\" class=\"row_heading level0 row2\" >2</th>\n",
       "      <td id=\"T_ff139_row2_col0\" class=\"data row2 col0\" >Internet Service Type (Fiber optic)</td>\n",
       "      <td id=\"T_ff139_row2_col1\" class=\"data row2 col1\" >0.426829</td>\n",
       "      <td id=\"T_ff139_row2_col2\" class=\"data row2 col2\" >0.573171</td>\n",
       "    </tr>\n",
       "    <tr>\n",
       "      <th id=\"T_ff139_level0_row3\" class=\"row_heading level0 row3\" >3</th>\n",
       "      <td id=\"T_ff139_row3_col0\" class=\"data row3 col0\" >Senior Citizen (Yes)</td>\n",
       "      <td id=\"T_ff139_row3_col1\" class=\"data row3 col1\" >0.426772</td>\n",
       "      <td id=\"T_ff139_row3_col2\" class=\"data row3 col2\" >0.573228</td>\n",
       "    </tr>\n",
       "    <tr>\n",
       "      <th id=\"T_ff139_level0_row4\" class=\"row_heading level0 row4\" >4</th>\n",
       "      <td id=\"T_ff139_row4_col0\" class=\"data row4 col0\" >Paperless Billing (Yes)</td>\n",
       "      <td id=\"T_ff139_row4_col1\" class=\"data row4 col1\" >0.335628</td>\n",
       "      <td id=\"T_ff139_row4_col2\" class=\"data row4 col2\" >0.664372</td>\n",
       "    </tr>\n",
       "    <tr>\n",
       "      <th id=\"T_ff139_level0_row5\" class=\"row_heading level0 row5\" >5</th>\n",
       "      <td id=\"T_ff139_row5_col0\" class=\"data row5 col0\" >Partner (No)</td>\n",
       "      <td id=\"T_ff139_row5_col1\" class=\"data row5 col1\" >0.327084</td>\n",
       "      <td id=\"T_ff139_row5_col2\" class=\"data row5 col2\" >0.672916</td>\n",
       "    </tr>\n",
       "    <tr>\n",
       "      <th id=\"T_ff139_level0_row6\" class=\"row_heading level0 row6\" >6</th>\n",
       "      <td id=\"T_ff139_row6_col0\" class=\"data row6 col0\" >Online Security (No)</td>\n",
       "      <td id=\"T_ff139_row6_col1\" class=\"data row6 col1\" >0.317056</td>\n",
       "      <td id=\"T_ff139_row6_col2\" class=\"data row6 col2\" >0.682944</td>\n",
       "    </tr>\n",
       "    <tr>\n",
       "      <th id=\"T_ff139_level0_row7\" class=\"row_heading level0 row7\" >7</th>\n",
       "      <td id=\"T_ff139_row7_col0\" class=\"data row7 col0\" >Dependents (No)</td>\n",
       "      <td id=\"T_ff139_row7_col1\" class=\"data row7 col1\" >0.313297</td>\n",
       "      <td id=\"T_ff139_row7_col2\" class=\"data row7 col2\" >0.686703</td>\n",
       "    </tr>\n",
       "    <tr>\n",
       "      <th id=\"T_ff139_level0_row8\" class=\"row_heading level0 row8\" >8</th>\n",
       "      <td id=\"T_ff139_row8_col0\" class=\"data row8 col0\" >Tech Support (No)</td>\n",
       "      <td id=\"T_ff139_row8_col1\" class=\"data row8 col1\" >0.310579</td>\n",
       "      <td id=\"T_ff139_row8_col2\" class=\"data row8 col2\" >0.689421</td>\n",
       "    </tr>\n",
       "    <tr>\n",
       "      <th id=\"T_ff139_level0_row9\" class=\"row_heading level0 row9\" >9</th>\n",
       "      <td id=\"T_ff139_row9_col0\" class=\"data row9 col0\" >Streaming Movies (Yes)</td>\n",
       "      <td id=\"T_ff139_row9_col1\" class=\"data row9 col1\" >0.293965</td>\n",
       "      <td id=\"T_ff139_row9_col2\" class=\"data row9 col2\" >0.706035</td>\n",
       "    </tr>\n",
       "    <tr>\n",
       "      <th id=\"T_ff139_level0_row10\" class=\"row_heading level0 row10\" >10</th>\n",
       "      <td id=\"T_ff139_row10_col0\" class=\"data row10 col0\" >Multiple Lines (Yes)</td>\n",
       "      <td id=\"T_ff139_row10_col1\" class=\"data row10 col1\" >0.292990</td>\n",
       "      <td id=\"T_ff139_row10_col2\" class=\"data row10 col2\" >0.707010</td>\n",
       "    </tr>\n",
       "    <tr>\n",
       "      <th id=\"T_ff139_level0_row11\" class=\"row_heading level0 row11\" >11</th>\n",
       "      <td id=\"T_ff139_row11_col0\" class=\"data row11 col0\" >Online Backup (No)</td>\n",
       "      <td id=\"T_ff139_row11_col1\" class=\"data row11 col1\" >0.287832</td>\n",
       "      <td id=\"T_ff139_row11_col2\" class=\"data row11 col2\" >0.712168</td>\n",
       "    </tr>\n",
       "    <tr>\n",
       "      <th id=\"T_ff139_level0_row12\" class=\"row_heading level0 row12\" >12</th>\n",
       "      <td id=\"T_ff139_row12_col0\" class=\"data row12 col0\" >Online Backup Yes (0)</td>\n",
       "      <td id=\"T_ff139_row12_col1\" class=\"data row12 col1\" >0.287832</td>\n",
       "      <td id=\"T_ff139_row12_col2\" class=\"data row12 col2\" >0.712168</td>\n",
       "    </tr>\n",
       "    <tr>\n",
       "      <th id=\"T_ff139_level0_row13\" class=\"row_heading level0 row13\" >13</th>\n",
       "      <td id=\"T_ff139_row13_col0\" class=\"data row13 col0\" >Streaming Tv (Yes)</td>\n",
       "      <td id=\"T_ff139_row13_col1\" class=\"data row13 col1\" >0.287311</td>\n",
       "      <td id=\"T_ff139_row13_col2\" class=\"data row13 col2\" >0.712689</td>\n",
       "    </tr>\n",
       "    <tr>\n",
       "      <th id=\"T_ff139_level0_row14\" class=\"row_heading level0 row14\" >14</th>\n",
       "      <td id=\"T_ff139_row14_col0\" class=\"data row14 col0\" >Device Protection (No)</td>\n",
       "      <td id=\"T_ff139_row14_col1\" class=\"data row14 col1\" >0.285156</td>\n",
       "      <td id=\"T_ff139_row14_col2\" class=\"data row14 col2\" >0.714844</td>\n",
       "    </tr>\n",
       "    <tr>\n",
       "      <th id=\"T_ff139_level0_row15\" class=\"row_heading level0 row15\" >15</th>\n",
       "      <td id=\"T_ff139_row15_col0\" class=\"data row15 col0\" >Phone Service (Yes)</td>\n",
       "      <td id=\"T_ff139_row15_col1\" class=\"data row15 col1\" >0.267957</td>\n",
       "      <td id=\"T_ff139_row15_col2\" class=\"data row15 col2\" >0.732043</td>\n",
       "    </tr>\n",
       "    <tr>\n",
       "      <th id=\"T_ff139_level0_row16\" class=\"row_heading level0 row16\" >16</th>\n",
       "      <td id=\"T_ff139_row16_col0\" class=\"data row16 col0\" >Gender (Male)</td>\n",
       "      <td id=\"T_ff139_row16_col1\" class=\"data row16 col1\" >0.265688</td>\n",
       "      <td id=\"T_ff139_row16_col2\" class=\"data row16 col2\" >0.734312</td>\n",
       "    </tr>\n",
       "    <tr>\n",
       "      <th id=\"T_ff139_level0_row17\" class=\"row_heading level0 row17\" >17</th>\n",
       "      <td id=\"T_ff139_row17_col0\" class=\"data row17 col0\" >Gender (Female)</td>\n",
       "      <td id=\"T_ff139_row17_col1\" class=\"data row17 col1\" >0.265681</td>\n",
       "      <td id=\"T_ff139_row17_col2\" class=\"data row17 col2\" >0.734319</td>\n",
       "    </tr>\n",
       "    <tr>\n",
       "      <th id=\"T_ff139_level0_row18\" class=\"row_heading level0 row18\" >18</th>\n",
       "      <td id=\"T_ff139_row18_col0\" class=\"data row18 col0\" >Streaming Tv (No)</td>\n",
       "      <td id=\"T_ff139_row18_col1\" class=\"data row18 col1\" >0.252070</td>\n",
       "      <td id=\"T_ff139_row18_col2\" class=\"data row18 col2\" >0.747930</td>\n",
       "    </tr>\n",
       "    <tr>\n",
       "      <th id=\"T_ff139_level0_row19\" class=\"row_heading level0 row19\" >19</th>\n",
       "      <td id=\"T_ff139_row19_col0\" class=\"data row19 col0\" >Streaming Movies (No)</td>\n",
       "      <td id=\"T_ff139_row19_col1\" class=\"data row19 col1\" >0.247496</td>\n",
       "      <td id=\"T_ff139_row19_col2\" class=\"data row19 col2\" >0.752504</td>\n",
       "    </tr>\n",
       "    <tr>\n",
       "      <th id=\"T_ff139_level0_row20\" class=\"row_heading level0 row20\" >20</th>\n",
       "      <td id=\"T_ff139_row20_col0\" class=\"data row20 col0\" >Multiple Lines (No)</td>\n",
       "      <td id=\"T_ff139_row20_col1\" class=\"data row20 col1\" >0.245591</td>\n",
       "      <td id=\"T_ff139_row20_col2\" class=\"data row20 col2\" >0.754409</td>\n",
       "    </tr>\n",
       "    <tr>\n",
       "      <th id=\"T_ff139_level0_row21\" class=\"row_heading level0 row21\" >21</th>\n",
       "      <td id=\"T_ff139_row21_col0\" class=\"data row21 col0\" >Phone Service (No)</td>\n",
       "      <td id=\"T_ff139_row21_col1\" class=\"data row21 col1\" >0.243968</td>\n",
       "      <td id=\"T_ff139_row21_col2\" class=\"data row21 col2\" >0.756032</td>\n",
       "    </tr>\n",
       "    <tr>\n",
       "      <th id=\"T_ff139_level0_row22\" class=\"row_heading level0 row22\" >22</th>\n",
       "      <td id=\"T_ff139_row22_col0\" class=\"data row22 col0\" >Senior Citizen (No)</td>\n",
       "      <td id=\"T_ff139_row22_col1\" class=\"data row22 col1\" >0.234706</td>\n",
       "      <td id=\"T_ff139_row22_col2\" class=\"data row22 col2\" >0.765294</td>\n",
       "    </tr>\n",
       "    <tr>\n",
       "      <th id=\"T_ff139_level0_row23\" class=\"row_heading level0 row23\" >23</th>\n",
       "      <td id=\"T_ff139_row23_col0\" class=\"data row23 col0\" >Device Protection (Yes)</td>\n",
       "      <td id=\"T_ff139_row23_col1\" class=\"data row23 col1\" >0.229484</td>\n",
       "      <td id=\"T_ff139_row23_col2\" class=\"data row23 col2\" >0.770516</td>\n",
       "    </tr>\n",
       "    <tr>\n",
       "      <th id=\"T_ff139_level0_row24\" class=\"row_heading level0 row24\" >24</th>\n",
       "      <td id=\"T_ff139_row24_col0\" class=\"data row24 col0\" >Online Backup Yes (1)</td>\n",
       "      <td id=\"T_ff139_row24_col1\" class=\"data row24 col1\" >0.224326</td>\n",
       "      <td id=\"T_ff139_row24_col2\" class=\"data row24 col2\" >0.775674</td>\n",
       "    </tr>\n",
       "    <tr>\n",
       "      <th id=\"T_ff139_level0_row25\" class=\"row_heading level0 row25\" >25</th>\n",
       "      <td id=\"T_ff139_row25_col0\" class=\"data row25 col0\" >Online Backup (Yes)</td>\n",
       "      <td id=\"T_ff139_row25_col1\" class=\"data row25 col1\" >0.224326</td>\n",
       "      <td id=\"T_ff139_row25_col2\" class=\"data row25 col2\" >0.775674</td>\n",
       "    </tr>\n",
       "    <tr>\n",
       "      <th id=\"T_ff139_level0_row26\" class=\"row_heading level0 row26\" >26</th>\n",
       "      <td id=\"T_ff139_row26_col0\" class=\"data row26 col0\" >Partner (Yes)</td>\n",
       "      <td id=\"T_ff139_row26_col1\" class=\"data row26 col1\" >0.200524</td>\n",
       "      <td id=\"T_ff139_row26_col2\" class=\"data row26 col2\" >0.799476</td>\n",
       "    </tr>\n",
       "    <tr>\n",
       "      <th id=\"T_ff139_level0_row27\" class=\"row_heading level0 row27\" >27</th>\n",
       "      <td id=\"T_ff139_row27_col0\" class=\"data row27 col0\" >Payment Type (Mailed check)</td>\n",
       "      <td id=\"T_ff139_row27_col1\" class=\"data row27 col1\" >0.191919</td>\n",
       "      <td id=\"T_ff139_row27_col2\" class=\"data row27 col2\" >0.808081</td>\n",
       "    </tr>\n",
       "    <tr>\n",
       "      <th id=\"T_ff139_level0_row28\" class=\"row_heading level0 row28\" >28</th>\n",
       "      <td id=\"T_ff139_row28_col0\" class=\"data row28 col0\" >Internet Service Type (DSL)</td>\n",
       "      <td id=\"T_ff139_row28_col1\" class=\"data row28 col1\" >0.183234</td>\n",
       "      <td id=\"T_ff139_row28_col2\" class=\"data row28 col2\" >0.816766</td>\n",
       "    </tr>\n",
       "    <tr>\n",
       "      <th id=\"T_ff139_level0_row29\" class=\"row_heading level0 row29\" >29</th>\n",
       "      <td id=\"T_ff139_row29_col0\" class=\"data row29 col0\" >Payment Type (Bank transfer)</td>\n",
       "      <td id=\"T_ff139_row29_col1\" class=\"data row29 col1\" >0.172854</td>\n",
       "      <td id=\"T_ff139_row29_col2\" class=\"data row29 col2\" >0.827146</td>\n",
       "    </tr>\n",
       "    <tr>\n",
       "      <th id=\"T_ff139_level0_row30\" class=\"row_heading level0 row30\" >30</th>\n",
       "      <td id=\"T_ff139_row30_col0\" class=\"data row30 col0\" >Paperless Billing (No)</td>\n",
       "      <td id=\"T_ff139_row30_col1\" class=\"data row30 col1\" >0.164910</td>\n",
       "      <td id=\"T_ff139_row30_col2\" class=\"data row30 col2\" >0.835090</td>\n",
       "    </tr>\n",
       "    <tr>\n",
       "      <th id=\"T_ff139_level0_row31\" class=\"row_heading level0 row31\" >31</th>\n",
       "      <td id=\"T_ff139_row31_col0\" class=\"data row31 col0\" >Payment Type (Credit card)</td>\n",
       "      <td id=\"T_ff139_row31_col1\" class=\"data row31 col1\" >0.162011</td>\n",
       "      <td id=\"T_ff139_row31_col2\" class=\"data row31 col2\" >0.837989</td>\n",
       "    </tr>\n",
       "    <tr>\n",
       "      <th id=\"T_ff139_level0_row32\" class=\"row_heading level0 row32\" >32</th>\n",
       "      <td id=\"T_ff139_row32_col0\" class=\"data row32 col0\" >Dependents (Yes)</td>\n",
       "      <td id=\"T_ff139_row32_col1\" class=\"data row32 col1\" >0.156040</td>\n",
       "      <td id=\"T_ff139_row32_col2\" class=\"data row32 col2\" >0.843960</td>\n",
       "    </tr>\n",
       "    <tr>\n",
       "      <th id=\"T_ff139_level0_row33\" class=\"row_heading level0 row33\" >33</th>\n",
       "      <td id=\"T_ff139_row33_col0\" class=\"data row33 col0\" >Tech Support (Yes)</td>\n",
       "      <td id=\"T_ff139_row33_col1\" class=\"data row33 col1\" >0.155399</td>\n",
       "      <td id=\"T_ff139_row33_col2\" class=\"data row33 col2\" >0.844601</td>\n",
       "    </tr>\n",
       "    <tr>\n",
       "      <th id=\"T_ff139_level0_row34\" class=\"row_heading level0 row34\" >34</th>\n",
       "      <td id=\"T_ff139_row34_col0\" class=\"data row34 col0\" >Online Security (Yes)</td>\n",
       "      <td id=\"T_ff139_row34_col1\" class=\"data row34 col1\" >0.141493</td>\n",
       "      <td id=\"T_ff139_row34_col2\" class=\"data row34 col2\" >0.858507</td>\n",
       "    </tr>\n",
       "    <tr>\n",
       "      <th id=\"T_ff139_level0_row35\" class=\"row_heading level0 row35\" >35</th>\n",
       "      <td id=\"T_ff139_row35_col0\" class=\"data row35 col0\" >Contract Type (One year)</td>\n",
       "      <td id=\"T_ff139_row35_col1\" class=\"data row35 col1\" >0.109202</td>\n",
       "      <td id=\"T_ff139_row35_col2\" class=\"data row35 col2\" >0.890798</td>\n",
       "    </tr>\n",
       "    <tr>\n",
       "      <th id=\"T_ff139_level0_row36\" class=\"row_heading level0 row36\" >36</th>\n",
       "      <td id=\"T_ff139_row36_col0\" class=\"data row36 col0\" >Internet Service Type (None)</td>\n",
       "      <td id=\"T_ff139_row36_col1\" class=\"data row36 col1\" >0.073818</td>\n",
       "      <td id=\"T_ff139_row36_col2\" class=\"data row36 col2\" >0.926182</td>\n",
       "    </tr>\n",
       "    <tr>\n",
       "      <th id=\"T_ff139_level0_row37\" class=\"row_heading level0 row37\" >37</th>\n",
       "      <td id=\"T_ff139_row37_col0\" class=\"data row37 col0\" >Contract Type (Two year)</td>\n",
       "      <td id=\"T_ff139_row37_col1\" class=\"data row37 col1\" >0.031348</td>\n",
       "      <td id=\"T_ff139_row37_col2\" class=\"data row37 col2\" >0.968652</td>\n",
       "    </tr>\n",
       "  </tbody>\n",
       "</table>\n"
      ],
      "text/plain": [
       "<pandas.io.formats.style.Styler at 0x136f38cd0>"
      ]
     },
     "execution_count": 5,
     "metadata": {},
     "output_type": "execute_result"
    }
   ],
   "source": [
    "visuals_telco.viz2()"
   ]
  },
  {
   "cell_type": "markdown",
   "id": "97409bb3",
   "metadata": {},
   "source": [
    "#### Takeaways:\n",
    "- Excluding the month-to-month contract type, the top five predictions of churn are:\n",
    "   - Payment Type (Electronic Check)\n",
    "   - Internet Service Type (Fiber Optic)\n",
    "   - Senior Citizen (Yes)\n",
    "   - Paperless Billing (Yes)\n",
    "   - Partner (No)"
   ]
  },
  {
   "cell_type": "markdown",
   "id": "019ae7b5",
   "metadata": {},
   "source": [
    "<hr style=\"border-top: 10px groove lightsteelblue; margin-top: 1px; margin-bottom: 1px\"></hr>"
   ]
  },
  {
   "cell_type": "markdown",
   "id": "ecc0dca8",
   "metadata": {},
   "source": [
    "### Okay...boomer?"
   ]
  },
  {
   "cell_type": "markdown",
   "id": "f703bc7c",
   "metadata": {},
   "source": [
    "$Chi^{2}$ Hypothesis\n",
    "\n",
    "$\\alpha$ = .05\n",
    "\n",
    "$𝐻_{0}$: Seniority and contract types are independent.\n",
    "\n",
    "$𝐻_{𝑎}$: Seniority and contract types are not independent."
   ]
  },
  {
   "cell_type": "code",
   "execution_count": 6,
   "id": "3f76382f",
   "metadata": {},
   "outputs": [
    {
     "data": {
      "image/png": "[encoded data removed]",
      "text/plain": [
       "<Figure size 1440x576 with 4 Axes>"
      ]
     },
     "metadata": {},
     "output_type": "display_data"
    }
   ],
   "source": [
    "visuals_telco.viz3()"
   ]
  },
  {
   "cell_type": "code",
   "execution_count": 7,
   "id": "5c6a70cd",
   "metadata": {},
   "outputs": [
    {
     "name": "stdout",
     "output_type": "stream",
     "text": [
      "P-value: 0.000\n",
      "Reject the null hypothesis.\n"
     ]
    }
   ],
   "source": [
    "visuals_telco.stats1()"
   ]
  },
  {
   "cell_type": "markdown",
   "id": "39815018",
   "metadata": {},
   "source": [
    "$Chi^{2}$ Hypothesis\n",
    "\n",
    "$\\alpha$ = .05\n",
    "\n",
    "$𝐻_{0}$: Seniority and payment types are independent.\n",
    "\n",
    "$𝐻_{𝑎}$: Seniority and payment types are not independent."
   ]
  },
  {
   "cell_type": "code",
   "execution_count": 8,
   "id": "b26acd36",
   "metadata": {},
   "outputs": [
    {
     "name": "stdout",
     "output_type": "stream",
     "text": [
      "P-value: 0.000\n",
      "Reject the null hypothesis.\n"
     ]
    }
   ],
   "source": [
    "visuals_telco.stats2()"
   ]
  },
  {
   "cell_type": "markdown",
   "id": "e44f73b6",
   "metadata": {},
   "source": [
    "#### Takeaways\n",
    "- Statistical testing confirms that there is sufficient evidence to reject the null hypotheses.\n",
    "- Visually, senior citizens represent the highest groups in the most churnable categories."
   ]
  },
  {
   "cell_type": "markdown",
   "id": "41f4c186",
   "metadata": {},
   "source": [
    "<hr style=\"border-top: 10px groove lightsteelblue; margin-top: 1px; margin-bottom: 1px\"></hr>"
   ]
  },
  {
   "cell_type": "markdown",
   "id": "ed2ea8de",
   "metadata": {},
   "source": [
    "### Dinner for One...again?"
   ]
  },
  {
   "cell_type": "markdown",
   "id": "57c6e7f8",
   "metadata": {},
   "source": [
    "$Chi^{2}$ Hypothesis\n",
    "\n",
    "$\\alpha$ = .05\n",
    "\n",
    "$𝐻_{0}$: Having a partner and internet service types are independent.\n",
    "\n",
    "$𝐻_{𝑎}$: Having a partner and internet service types are not independent."
   ]
  },
  {
   "cell_type": "code",
   "execution_count": 9,
   "id": "27fac408",
   "metadata": {},
   "outputs": [
    {
     "data": {
      "image/png": "[encoded data removed]",
      "text/plain": [
       "<Figure size 1440x576 with 4 Axes>"
      ]
     },
     "metadata": {},
     "output_type": "display_data"
    }
   ],
   "source": [
    "visuals_telco.viz4()"
   ]
  },
  {
   "cell_type": "code",
   "execution_count": 10,
   "id": "0cade8f4",
   "metadata": {},
   "outputs": [
    {
     "name": "stdout",
     "output_type": "stream",
     "text": [
      "P-value: 0.505\n",
      "Fail to reject the null hypothesis.\n"
     ]
    }
   ],
   "source": [
    "visuals_telco.stats3()"
   ]
  },
  {
   "cell_type": "markdown",
   "id": "6de8041b",
   "metadata": {
    "hide_input": false
   },
   "source": [
    "#### Takeaways:\n",
    "- Visually, those without partners churn most frequently, most noticeably for those with fiber optic internet service. \n",
    "- Testing based on internet type may provide further statistical insights."
   ]
  },
  {
   "cell_type": "markdown",
   "id": "be7fd208",
   "metadata": {},
   "source": [
    "<hr style=\"border-top: 5px groove blanchedalmond; margin-top: 1px; margin-bottom: 1px\"></hr>"
   ]
  },
  {
   "cell_type": "markdown",
   "id": "b8e73264",
   "metadata": {},
   "source": [
    "$Chi^{2}$ Hypothesis\n",
    "\n",
    "$\\alpha$ = .05\n",
    "\n",
    "$𝐻_{0}$: Having a partner and fiber optic internet service are independent.\n",
    "\n",
    "$𝐻_{𝑎}$: Having a partner and fiber optic internet service are not independent."
   ]
  },
  {
   "cell_type": "code",
   "execution_count": 11,
   "id": "00fd7a21",
   "metadata": {},
   "outputs": [
    {
     "name": "stdout",
     "output_type": "stream",
     "text": [
      "P-value: 0.437\n",
      "Fail to reject the null hypothesis.\n"
     ]
    }
   ],
   "source": [
    "visuals_telco.stats4()"
   ]
  },
  {
   "cell_type": "markdown",
   "id": "fc0142a2",
   "metadata": {
    "hide_input": false
   },
   "source": [
    "#### Takeaways:\n",
    "- Even after eliminating the other internet categories, the statistical metric produced the same result, there is not enough confidence based on the threshold set to conclude that partnership status and fiber-optic internet service are independent of one another."
   ]
  },
  {
   "cell_type": "markdown",
   "id": "1e80d9f5",
   "metadata": {},
   "source": [
    "<hr style=\"border-top: 5px groove blanchedalmond; margin-top: 1px; margin-bottom: 1px\"></hr>"
   ]
  },
  {
   "cell_type": "markdown",
   "id": "1c929f7c",
   "metadata": {
    "hide_input": false
   },
   "source": [
    "#### A Deeper Look at Seniors and Singles"
   ]
  },
  {
   "cell_type": "markdown",
   "id": "da3345b3",
   "metadata": {},
   "source": [
    "#### Questions:\n",
    "- What is the probability of senior churn and are certain factors primarily responsible?\n",
    "\n",
    "- What is the probability of unpartnered churn and are there certain factors that are the primary indications of churn?"
   ]
  },
  {
   "cell_type": "code",
   "execution_count": 12,
   "id": "f0639f4a",
   "metadata": {},
   "outputs": [
    {
     "data": {
      "image/png": "[encoded data removed]",
      "text/plain": [
       "<Figure size 576x432 with 1 Axes>"
      ]
     },
     "metadata": {},
     "output_type": "display_data"
    }
   ],
   "source": [
    "visuals_telco.viz5()"
   ]
  },
  {
   "cell_type": "markdown",
   "id": "d4d2ef11",
   "metadata": {},
   "source": [
    "#### Takeaways:\n",
    "- The graph above highlights that senior citizens churn about 20% more often than non-seniors.\n",
    "- While they represent a roughly 16% of the dataset, overall population trends suggests that they are a growing demographic and their churn rate relative to the population of Telco customers cannot be ignored."
   ]
  },
  {
   "cell_type": "code",
   "execution_count": 13,
   "id": "ec371665",
   "metadata": {
    "hide_input": false,
    "scrolled": true
   },
   "outputs": [
    {
     "data": {
      "text/html": [
       "<div>\n",
       "<style scoped>\n",
       "    .dataframe tbody tr th:only-of-type {\n",
       "        vertical-align: middle;\n",
       "    }\n",
       "\n",
       "    .dataframe tbody tr th {\n",
       "        vertical-align: top;\n",
       "    }\n",
       "\n",
       "    .dataframe thead th {\n",
       "        text-align: right;\n",
       "    }\n",
       "</style>\n",
       "<table border=\"1\" class=\"dataframe\">\n",
       "  <thead>\n",
       "    <tr style=\"text-align: right;\">\n",
       "      <th></th>\n",
       "      <th>monthly_charges</th>\n",
       "    </tr>\n",
       "    <tr>\n",
       "      <th>senior_citizen</th>\n",
       "      <th></th>\n",
       "    </tr>\n",
       "  </thead>\n",
       "  <tbody>\n",
       "    <tr>\n",
       "      <th>No</th>\n",
       "      <td>61.83</td>\n",
       "    </tr>\n",
       "    <tr>\n",
       "      <th>Yes</th>\n",
       "      <td>80.30</td>\n",
       "    </tr>\n",
       "  </tbody>\n",
       "</table>\n",
       "</div>"
      ],
      "text/plain": [
       "                monthly_charges\n",
       "senior_citizen                 \n",
       "No                        61.83\n",
       "Yes                       80.30"
      ]
     },
     "execution_count": 13,
     "metadata": {},
     "output_type": "execute_result"
    }
   ],
   "source": [
    "#do senior citizens have a higher than average bill compared to non-seniors?\n",
    "\n",
    "df_s_mc = pd.DataFrame(round(train.groupby('senior_citizen')['monthly_charges'].mean(),2)) #yes, on avg pay approximately $19 more per month\n",
    "df_s_mc"
   ]
  },
  {
   "cell_type": "markdown",
   "id": "e337452e",
   "metadata": {},
   "source": [
    "#### Takeaways:\n",
    "- Seniors have a higher than average monthly bill compared to their younger counterparts."
   ]
  },
  {
   "cell_type": "code",
   "execution_count": 14,
   "id": "9cf7d796",
   "metadata": {},
   "outputs": [
    {
     "data": {
      "image/png": "[encoded data removed]",
      "text/plain": [
       "<Figure size 1152x576 with 1 Axes>"
      ]
     },
     "metadata": {},
     "output_type": "display_data"
    }
   ],
   "source": [
    "visuals_telco.viz6()"
   ]
  },
  {
   "cell_type": "markdown",
   "id": "6923ddf5",
   "metadata": {},
   "source": [
    "#### Takeaways:\n",
    "- Seniors are overwhelmingly fond of our frothiest plan, month-to-month more often than not and at a higher rate than their non-senior counterparts."
   ]
  },
  {
   "cell_type": "markdown",
   "id": "80740041",
   "metadata": {},
   "source": [
    "<hr style=\"border-top: 5px groove blanchedalmond; margin-top: 1px; margin-bottom: 1px\"></hr>"
   ]
  },
  {
   "cell_type": "code",
   "execution_count": 15,
   "id": "a37c3827",
   "metadata": {
    "hide_input": false,
    "scrolled": true
   },
   "outputs": [
    {
     "data": {
      "text/html": [
       "<div>\n",
       "<style scoped>\n",
       "    .dataframe tbody tr th:only-of-type {\n",
       "        vertical-align: middle;\n",
       "    }\n",
       "\n",
       "    .dataframe tbody tr th {\n",
       "        vertical-align: top;\n",
       "    }\n",
       "\n",
       "    .dataframe thead th {\n",
       "        text-align: right;\n",
       "    }\n",
       "</style>\n",
       "<table border=\"1\" class=\"dataframe\">\n",
       "  <thead>\n",
       "    <tr style=\"text-align: right;\">\n",
       "      <th></th>\n",
       "      <th></th>\n",
       "      <th>payment_type</th>\n",
       "    </tr>\n",
       "    <tr>\n",
       "      <th>senior_citizen</th>\n",
       "      <th>payment_type</th>\n",
       "      <th></th>\n",
       "    </tr>\n",
       "  </thead>\n",
       "  <tbody>\n",
       "    <tr>\n",
       "      <th rowspan=\"4\" valign=\"top\">No</th>\n",
       "      <th>Electronic check</th>\n",
       "      <td>965</td>\n",
       "    </tr>\n",
       "    <tr>\n",
       "      <th>Mailed check</th>\n",
       "      <td>844</td>\n",
       "    </tr>\n",
       "    <tr>\n",
       "      <th>Credit card</th>\n",
       "      <td>763</td>\n",
       "    </tr>\n",
       "    <tr>\n",
       "      <th>Bank transfer</th>\n",
       "      <td>730</td>\n",
       "    </tr>\n",
       "    <tr>\n",
       "      <th rowspan=\"4\" valign=\"top\">Yes</th>\n",
       "      <th>Electronic check</th>\n",
       "      <td>324</td>\n",
       "    </tr>\n",
       "    <tr>\n",
       "      <th>Bank transfer</th>\n",
       "      <td>132</td>\n",
       "    </tr>\n",
       "    <tr>\n",
       "      <th>Credit card</th>\n",
       "      <td>132</td>\n",
       "    </tr>\n",
       "    <tr>\n",
       "      <th>Mailed check</th>\n",
       "      <td>47</td>\n",
       "    </tr>\n",
       "  </tbody>\n",
       "</table>\n",
       "</div>"
      ],
      "text/plain": [
       "                                 payment_type\n",
       "senior_citizen payment_type                  \n",
       "No             Electronic check           965\n",
       "               Mailed check               844\n",
       "               Credit card                763\n",
       "               Bank transfer              730\n",
       "Yes            Electronic check           324\n",
       "               Bank transfer              132\n",
       "               Credit card                132\n",
       "               Mailed check                47"
      ]
     },
     "execution_count": 15,
     "metadata": {},
     "output_type": "execute_result"
    }
   ],
   "source": [
    "df_t = pd.DataFrame(train.groupby('senior_citizen')['payment_type'].value_counts())\n",
    "                   \n",
    "df_t"
   ]
  },
  {
   "cell_type": "markdown",
   "id": "bf8a5dc1",
   "metadata": {},
   "source": [
    "#### Takeaways:\n",
    "- Although both non-seniors and seniors pay most often with electronic check, electronic check is disproportionately favored by seniors.\n",
    "- Electronic checks represent approximately 52% of payment types by seniors."
   ]
  },
  {
   "cell_type": "markdown",
   "id": "f3b7c7a3",
   "metadata": {
    "hide_input": false
   },
   "source": [
    "<hr style=\"border-top: 5px groove blanchedalmond; margin-top: 1px; margin-bottom: 1px\"></hr>"
   ]
  },
  {
   "cell_type": "code",
   "execution_count": 16,
   "id": "d1b675dc",
   "metadata": {},
   "outputs": [
    {
     "data": {
      "image/png": "[encoded data removed]",
      "text/plain": [
       "<Figure size 576x432 with 1 Axes>"
      ]
     },
     "metadata": {},
     "output_type": "display_data"
    }
   ],
   "source": [
    "visuals_telco.viz7()"
   ]
  },
  {
   "cell_type": "markdown",
   "id": "7f1e7056",
   "metadata": {},
   "source": [
    "#### Takeaways: \n",
    "- Non-partnered people churn at a higher rate than customers with partners.\n",
    "- Non-partnered people represent about 51% of this dataset, so higher churn rates in this group has significance."
   ]
  },
  {
   "cell_type": "code",
   "execution_count": 17,
   "id": "f5ea511b",
   "metadata": {
    "hide_input": false,
    "scrolled": true
   },
   "outputs": [
    {
     "data": {
      "text/html": [
       "<div>\n",
       "<style scoped>\n",
       "    .dataframe tbody tr th:only-of-type {\n",
       "        vertical-align: middle;\n",
       "    }\n",
       "\n",
       "    .dataframe tbody tr th {\n",
       "        vertical-align: top;\n",
       "    }\n",
       "\n",
       "    .dataframe thead th {\n",
       "        text-align: right;\n",
       "    }\n",
       "</style>\n",
       "<table border=\"1\" class=\"dataframe\">\n",
       "  <thead>\n",
       "    <tr style=\"text-align: right;\">\n",
       "      <th></th>\n",
       "      <th>monthly_charges</th>\n",
       "    </tr>\n",
       "    <tr>\n",
       "      <th>partner</th>\n",
       "      <th></th>\n",
       "    </tr>\n",
       "  </thead>\n",
       "  <tbody>\n",
       "    <tr>\n",
       "      <th>No</th>\n",
       "      <td>61.37</td>\n",
       "    </tr>\n",
       "    <tr>\n",
       "      <th>Yes</th>\n",
       "      <td>68.46</td>\n",
       "    </tr>\n",
       "  </tbody>\n",
       "</table>\n",
       "</div>"
      ],
      "text/plain": [
       "         monthly_charges\n",
       "partner                 \n",
       "No                 61.37\n",
       "Yes                68.46"
      ]
     },
     "execution_count": 17,
     "metadata": {},
     "output_type": "execute_result"
    }
   ],
   "source": [
    "#do people with partners have higher monthly charges?\n",
    "\n",
    "df_p_mc = pd.DataFrame(round(train.groupby('partner')['monthly_charges'].mean(),2))\n",
    "df_p_mc"
   ]
  },
  {
   "cell_type": "markdown",
   "id": "27b60769",
   "metadata": {},
   "source": [
    "#### Takeaways:\n",
    "- It pays to be single sometimes, those in relationships pay more than their partnered counterparts."
   ]
  },
  {
   "cell_type": "code",
   "execution_count": 18,
   "id": "50cb34c9",
   "metadata": {
    "hide_input": false,
    "scrolled": true
   },
   "outputs": [
    {
     "data": {
      "text/html": [
       "<div>\n",
       "<style scoped>\n",
       "    .dataframe tbody tr th:only-of-type {\n",
       "        vertical-align: middle;\n",
       "    }\n",
       "\n",
       "    .dataframe tbody tr th {\n",
       "        vertical-align: top;\n",
       "    }\n",
       "\n",
       "    .dataframe thead th {\n",
       "        text-align: right;\n",
       "    }\n",
       "</style>\n",
       "<table border=\"1\" class=\"dataframe\">\n",
       "  <thead>\n",
       "    <tr style=\"text-align: right;\">\n",
       "      <th></th>\n",
       "      <th></th>\n",
       "      <th>payment_type</th>\n",
       "    </tr>\n",
       "    <tr>\n",
       "      <th>partner</th>\n",
       "      <th>payment_type</th>\n",
       "      <th></th>\n",
       "    </tr>\n",
       "  </thead>\n",
       "  <tbody>\n",
       "    <tr>\n",
       "      <th rowspan=\"4\" valign=\"top\">No</th>\n",
       "      <th>Electronic check</th>\n",
       "      <td>738</td>\n",
       "    </tr>\n",
       "    <tr>\n",
       "      <th>Mailed check</th>\n",
       "      <td>533</td>\n",
       "    </tr>\n",
       "    <tr>\n",
       "      <th>Credit card</th>\n",
       "      <td>393</td>\n",
       "    </tr>\n",
       "    <tr>\n",
       "      <th>Bank transfer</th>\n",
       "      <td>363</td>\n",
       "    </tr>\n",
       "    <tr>\n",
       "      <th rowspan=\"4\" valign=\"top\">Yes</th>\n",
       "      <th>Electronic check</th>\n",
       "      <td>551</td>\n",
       "    </tr>\n",
       "    <tr>\n",
       "      <th>Credit card</th>\n",
       "      <td>502</td>\n",
       "    </tr>\n",
       "    <tr>\n",
       "      <th>Bank transfer</th>\n",
       "      <td>499</td>\n",
       "    </tr>\n",
       "    <tr>\n",
       "      <th>Mailed check</th>\n",
       "      <td>358</td>\n",
       "    </tr>\n",
       "  </tbody>\n",
       "</table>\n",
       "</div>"
      ],
      "text/plain": [
       "                          payment_type\n",
       "partner payment_type                  \n",
       "No      Electronic check           738\n",
       "        Mailed check               533\n",
       "        Credit card                393\n",
       "        Bank transfer              363\n",
       "Yes     Electronic check           551\n",
       "        Credit card                502\n",
       "        Bank transfer              499\n",
       "        Mailed check               358"
      ]
     },
     "execution_count": 18,
     "metadata": {},
     "output_type": "execute_result"
    }
   ],
   "source": [
    "df_t_p = pd.DataFrame(train.groupby('partner')['payment_type'].value_counts())\n",
    "                   \n",
    "df_t_p"
   ]
  },
  {
   "cell_type": "markdown",
   "id": "97ca8ab4",
   "metadata": {},
   "source": [
    "#### Takeaways:\n",
    "- Electronic check is used most often in both those with partners and those without partners, but is disproportionately favored by those flying solo."
   ]
  },
  {
   "cell_type": "markdown",
   "id": "b72c1fdc",
   "metadata": {
    "hide_input": false
   },
   "source": [
    "#### Churn Probability "
   ]
  },
  {
   "cell_type": "code",
   "execution_count": 19,
   "id": "46453e30",
   "metadata": {},
   "outputs": [
    {
     "data": {
      "image/png": "[encoded data removed]",
      "text/plain": [
       "<Figure size 1152x576 with 1 Axes>"
      ]
     },
     "metadata": {},
     "output_type": "display_data"
    }
   ],
   "source": [
    "visuals_telco.viz8()"
   ]
  },
  {
   "cell_type": "markdown",
   "id": "7bb0ead9",
   "metadata": {},
   "source": [
    "#### Takeaways:\n",
    "- The top positive predictors of churn are:\n",
    "    - Fiber optic internet service\n",
    "    - Electronic check payment type\n",
    "    - Monthly charges\n",
    "    - Paperless billing\n",
    "    - Seniority\n",
    "    "
   ]
  },
  {
   "cell_type": "markdown",
   "id": "ddbd713e",
   "metadata": {},
   "source": [
    "<h1 style= \"border-bottom: 10px groove lightsteelblue; margin-top: 1px; margin-bottom: 1px\"> Modeling</h1>"
   ]
  },
  {
   "cell_type": "code",
   "execution_count": 21,
   "id": "05cf66a3",
   "metadata": {},
   "outputs": [],
   "source": [
    " X_train, y_train, X_validate, y_validate, X_test, y_test = visuals_telco.modeling_vars(train, validate, test)"
   ]
  },
  {
   "cell_type": "markdown",
   "id": "9ab4c695",
   "metadata": {},
   "source": [
    "#### Some notes:\n",
    "- Since the accurate prediction of churn (1) is the focus of today's meeting, churn is the positive case.\n",
    "- To that end, accuracy and recall will be the performance metrics used."
   ]
  },
  {
   "cell_type": "markdown",
   "id": "bf159d17",
   "metadata": {},
   "source": [
    "### Establish a Baseline"
   ]
  },
  {
   "cell_type": "code",
   "execution_count": 22,
   "id": "ce86af89",
   "metadata": {
    "hide_input": false,
    "scrolled": false
   },
   "outputs": [
    {
     "name": "stdout",
     "output_type": "stream",
     "text": [
      "Baseline Accuracy: 0.73\n"
     ]
    }
   ],
   "source": [
    "# since most customers in this dataset did not churn, use mode as baseline\n",
    "baseline = y_train.mode()\n",
    "\n",
    "#boolean array\n",
    "baseline_prediction = y_train == 0\n",
    "\n",
    "baseline_accuracy = baseline_prediction.mean()\n",
    "print(f'Baseline Accuracy: {baseline_accuracy:.2f}') "
   ]
  },
  {
   "cell_type": "markdown",
   "id": "53184b43",
   "metadata": {},
   "source": [
    "<h4 style=\"border-bottom: 5px groove blanchedalmond; margin-top: 1px; margin-bottom: 1px\">Decision Tree</h4>"
   ]
  },
  {
   "cell_type": "code",
   "execution_count": 23,
   "id": "7f35c715",
   "metadata": {},
   "outputs": [
    {
     "name": "stdout",
     "output_type": "stream",
     "text": [
      "Accuracy of Decision Tree Classifier on training set: 0.81\n",
      "Classification report, Train:\n",
      "~~~~~~~~~~~~~~~~~~~~~~~~~~~~~~~~~~~~~~~~~~~~~~~~~~~~~~~~~~~~~~~~~~~~~~~~~~~~~~~~~~~~~~~\n"
     ]
    },
    {
     "data": {
      "text/html": [
       "<div>\n",
       "<style scoped>\n",
       "    .dataframe tbody tr th:only-of-type {\n",
       "        vertical-align: middle;\n",
       "    }\n",
       "\n",
       "    .dataframe tbody tr th {\n",
       "        vertical-align: top;\n",
       "    }\n",
       "\n",
       "    .dataframe thead th {\n",
       "        text-align: right;\n",
       "    }\n",
       "</style>\n",
       "<table border=\"1\" class=\"dataframe\">\n",
       "  <thead>\n",
       "    <tr style=\"text-align: right;\">\n",
       "      <th></th>\n",
       "      <th>0</th>\n",
       "      <th>1</th>\n",
       "      <th>accuracy</th>\n",
       "      <th>macro avg</th>\n",
       "      <th>weighted avg</th>\n",
       "    </tr>\n",
       "  </thead>\n",
       "  <tbody>\n",
       "    <tr>\n",
       "      <th>precision</th>\n",
       "      <td>0.827745</td>\n",
       "      <td>0.708455</td>\n",
       "      <td>0.80696</td>\n",
       "      <td>0.768100</td>\n",
       "      <td>0.796052</td>\n",
       "    </tr>\n",
       "    <tr>\n",
       "      <th>recall</th>\n",
       "      <td>0.930820</td>\n",
       "      <td>0.464627</td>\n",
       "      <td>0.80696</td>\n",
       "      <td>0.697723</td>\n",
       "      <td>0.806960</td>\n",
       "    </tr>\n",
       "    <tr>\n",
       "      <th>f1-score</th>\n",
       "      <td>0.876262</td>\n",
       "      <td>0.561201</td>\n",
       "      <td>0.80696</td>\n",
       "      <td>0.718731</td>\n",
       "      <td>0.792555</td>\n",
       "    </tr>\n",
       "    <tr>\n",
       "      <th>support</th>\n",
       "      <td>2891.000000</td>\n",
       "      <td>1046.000000</td>\n",
       "      <td>0.80696</td>\n",
       "      <td>3937.000000</td>\n",
       "      <td>3937.000000</td>\n",
       "    </tr>\n",
       "  </tbody>\n",
       "</table>\n",
       "</div>"
      ],
      "text/plain": [
       "                     0            1  accuracy    macro avg  weighted avg\n",
       "precision     0.827745     0.708455   0.80696     0.768100      0.796052\n",
       "recall        0.930820     0.464627   0.80696     0.697723      0.806960\n",
       "f1-score      0.876262     0.561201   0.80696     0.718731      0.792555\n",
       "support    2891.000000  1046.000000   0.80696  3937.000000   3937.000000"
      ]
     },
     "execution_count": 23,
     "metadata": {},
     "output_type": "execute_result"
    }
   ],
   "source": [
    "visuals_telco.dt(X_train, y_train)"
   ]
  },
  {
   "cell_type": "markdown",
   "id": "42895344",
   "metadata": {},
   "source": [
    "<hr style=\"border-top: 5px groove blanchedalmond; margin-top: 1px; margin-bottom: 1px\"></hr>"
   ]
  },
  {
   "cell_type": "code",
   "execution_count": 24,
   "id": "6e11a910",
   "metadata": {},
   "outputs": [
    {
     "name": "stdout",
     "output_type": "stream",
     "text": [
      "Confusion Matrix:\n",
      "~~~~~~~~~~~~~~~~~~~~~~~~~~~~~~~~~~~~~~~~~~~~~~~~~~~~~~~~~~~~~~~~~~~~~~~~~~~~~~~~~~~~~~~\n"
     ]
    },
    {
     "data": {
      "text/html": [
       "<div>\n",
       "<style scoped>\n",
       "    .dataframe tbody tr th:only-of-type {\n",
       "        vertical-align: middle;\n",
       "    }\n",
       "\n",
       "    .dataframe tbody tr th {\n",
       "        vertical-align: top;\n",
       "    }\n",
       "\n",
       "    .dataframe thead th {\n",
       "        text-align: right;\n",
       "    }\n",
       "</style>\n",
       "<table border=\"1\" class=\"dataframe\">\n",
       "  <thead>\n",
       "    <tr style=\"text-align: right;\">\n",
       "      <th></th>\n",
       "      <th>Pred. Retained</th>\n",
       "      <th>Pred. Churned</th>\n",
       "    </tr>\n",
       "  </thead>\n",
       "  <tbody>\n",
       "    <tr>\n",
       "      <th>Actually Retained</th>\n",
       "      <td>2691</td>\n",
       "      <td>200</td>\n",
       "    </tr>\n",
       "    <tr>\n",
       "      <th>Actually Churned</th>\n",
       "      <td>560</td>\n",
       "      <td>486</td>\n",
       "    </tr>\n",
       "  </tbody>\n",
       "</table>\n",
       "</div>"
      ],
      "text/plain": [
       "                   Pred. Retained  Pred. Churned\n",
       "Actually Retained            2691            200\n",
       "Actually Churned              560            486"
      ]
     },
     "execution_count": 24,
     "metadata": {},
     "output_type": "execute_result"
    }
   ],
   "source": [
    "visuals_telco.dt_confusion()"
   ]
  },
  {
   "cell_type": "markdown",
   "id": "023a7d36",
   "metadata": {},
   "source": [
    "<h4 style=\"border-bottom: 5px groove blanchedalmond; margin-top: 1px; margin-bottom: 1px\">Random Forest</h4>"
   ]
  },
  {
   "cell_type": "code",
   "execution_count": 25,
   "id": "5d6b2ff4",
   "metadata": {},
   "outputs": [
    {
     "name": "stdout",
     "output_type": "stream",
     "text": [
      "Accuracy of Random Forest Classifier on training set: 0.80\n",
      "Classification report, Train:\n",
      "~~~~~~~~~~~~~~~~~~~~~~~~~~~~~\n"
     ]
    },
    {
     "data": {
      "text/html": [
       "<div>\n",
       "<style scoped>\n",
       "    .dataframe tbody tr th:only-of-type {\n",
       "        vertical-align: middle;\n",
       "    }\n",
       "\n",
       "    .dataframe tbody tr th {\n",
       "        vertical-align: top;\n",
       "    }\n",
       "\n",
       "    .dataframe thead th {\n",
       "        text-align: right;\n",
       "    }\n",
       "</style>\n",
       "<table border=\"1\" class=\"dataframe\">\n",
       "  <thead>\n",
       "    <tr style=\"text-align: right;\">\n",
       "      <th></th>\n",
       "      <th>0</th>\n",
       "      <th>1</th>\n",
       "      <th>accuracy</th>\n",
       "      <th>macro avg</th>\n",
       "      <th>weighted avg</th>\n",
       "    </tr>\n",
       "  </thead>\n",
       "  <tbody>\n",
       "    <tr>\n",
       "      <th>precision</th>\n",
       "      <td>0.816821</td>\n",
       "      <td>0.728188</td>\n",
       "      <td>0.803404</td>\n",
       "      <td>0.772505</td>\n",
       "      <td>0.793273</td>\n",
       "    </tr>\n",
       "    <tr>\n",
       "      <th>recall</th>\n",
       "      <td>0.943964</td>\n",
       "      <td>0.414914</td>\n",
       "      <td>0.803404</td>\n",
       "      <td>0.679439</td>\n",
       "      <td>0.803404</td>\n",
       "    </tr>\n",
       "    <tr>\n",
       "      <th>f1-score</th>\n",
       "      <td>0.875802</td>\n",
       "      <td>0.528624</td>\n",
       "      <td>0.803404</td>\n",
       "      <td>0.702213</td>\n",
       "      <td>0.783562</td>\n",
       "    </tr>\n",
       "    <tr>\n",
       "      <th>support</th>\n",
       "      <td>2891.000000</td>\n",
       "      <td>1046.000000</td>\n",
       "      <td>0.803404</td>\n",
       "      <td>3937.000000</td>\n",
       "      <td>3937.000000</td>\n",
       "    </tr>\n",
       "  </tbody>\n",
       "</table>\n",
       "</div>"
      ],
      "text/plain": [
       "                     0            1  accuracy    macro avg  weighted avg\n",
       "precision     0.816821     0.728188  0.803404     0.772505      0.793273\n",
       "recall        0.943964     0.414914  0.803404     0.679439      0.803404\n",
       "f1-score      0.875802     0.528624  0.803404     0.702213      0.783562\n",
       "support    2891.000000  1046.000000  0.803404  3937.000000   3937.000000"
      ]
     },
     "execution_count": 25,
     "metadata": {},
     "output_type": "execute_result"
    }
   ],
   "source": [
    "visuals_telco.random_forest(X_train, y_train)"
   ]
  },
  {
   "cell_type": "markdown",
   "id": "b98f1dda",
   "metadata": {},
   "source": [
    "<hr style=\"border-top: 5px groove blanchedalmond; margin-top: 1px; margin-bottom: 1px\"></hr>"
   ]
  },
  {
   "cell_type": "code",
   "execution_count": 26,
   "id": "d7c6cd5d",
   "metadata": {},
   "outputs": [
    {
     "name": "stdout",
     "output_type": "stream",
     "text": [
      "Confusion Matrix:\n",
      "~~~~~~~~~~~~~~~~~~~~~~\n"
     ]
    },
    {
     "data": {
      "text/html": [
       "<div>\n",
       "<style scoped>\n",
       "    .dataframe tbody tr th:only-of-type {\n",
       "        vertical-align: middle;\n",
       "    }\n",
       "\n",
       "    .dataframe tbody tr th {\n",
       "        vertical-align: top;\n",
       "    }\n",
       "\n",
       "    .dataframe thead th {\n",
       "        text-align: right;\n",
       "    }\n",
       "</style>\n",
       "<table border=\"1\" class=\"dataframe\">\n",
       "  <thead>\n",
       "    <tr style=\"text-align: right;\">\n",
       "      <th></th>\n",
       "      <th>Pred. Retained</th>\n",
       "      <th>Pred. Churned</th>\n",
       "    </tr>\n",
       "  </thead>\n",
       "  <tbody>\n",
       "    <tr>\n",
       "      <th>Actually Retained</th>\n",
       "      <td>2729</td>\n",
       "      <td>162</td>\n",
       "    </tr>\n",
       "    <tr>\n",
       "      <th>Actually Churned</th>\n",
       "      <td>612</td>\n",
       "      <td>434</td>\n",
       "    </tr>\n",
       "  </tbody>\n",
       "</table>\n",
       "</div>"
      ],
      "text/plain": [
       "                   Pred. Retained  Pred. Churned\n",
       "Actually Retained            2729            162\n",
       "Actually Churned              612            434"
      ]
     },
     "execution_count": 26,
     "metadata": {},
     "output_type": "execute_result"
    }
   ],
   "source": [
    "visuals_telco.rf_confusion()"
   ]
  },
  {
   "cell_type": "markdown",
   "id": "fb02b2c0",
   "metadata": {},
   "source": [
    "<h4 style=\"border-bottom: 5px groove blanchedalmond; margin-top: 1px; margin-bottom: 1px\">K Nearest Neighbors</h4>"
   ]
  },
  {
   "cell_type": "code",
   "execution_count": 27,
   "id": "86b19516",
   "metadata": {},
   "outputs": [
    {
     "name": "stdout",
     "output_type": "stream",
     "text": [
      "Accuracy of K Nearest Neighbors Classifier on training set: 0.81\n",
      "Classification report, Train:\n",
      "~~~~~~~~~~~~~~~~~~~~~~~~~~~~~\n"
     ]
    },
    {
     "data": {
      "text/html": [
       "<div>\n",
       "<style scoped>\n",
       "    .dataframe tbody tr th:only-of-type {\n",
       "        vertical-align: middle;\n",
       "    }\n",
       "\n",
       "    .dataframe tbody tr th {\n",
       "        vertical-align: top;\n",
       "    }\n",
       "\n",
       "    .dataframe thead th {\n",
       "        text-align: right;\n",
       "    }\n",
       "</style>\n",
       "<table border=\"1\" class=\"dataframe\">\n",
       "  <thead>\n",
       "    <tr style=\"text-align: right;\">\n",
       "      <th></th>\n",
       "      <th>0</th>\n",
       "      <th>1</th>\n",
       "      <th>accuracy</th>\n",
       "      <th>macro avg</th>\n",
       "      <th>weighted avg</th>\n",
       "    </tr>\n",
       "  </thead>\n",
       "  <tbody>\n",
       "    <tr>\n",
       "      <th>precision</th>\n",
       "      <td>0.817616</td>\n",
       "      <td>0.762832</td>\n",
       "      <td>0.809754</td>\n",
       "      <td>0.790224</td>\n",
       "      <td>0.803060</td>\n",
       "    </tr>\n",
       "    <tr>\n",
       "      <th>recall</th>\n",
       "      <td>0.953649</td>\n",
       "      <td>0.412046</td>\n",
       "      <td>0.809754</td>\n",
       "      <td>0.682848</td>\n",
       "      <td>0.809754</td>\n",
       "    </tr>\n",
       "    <tr>\n",
       "      <th>f1-score</th>\n",
       "      <td>0.880409</td>\n",
       "      <td>0.535071</td>\n",
       "      <td>0.809754</td>\n",
       "      <td>0.707740</td>\n",
       "      <td>0.788658</td>\n",
       "    </tr>\n",
       "    <tr>\n",
       "      <th>support</th>\n",
       "      <td>2891.000000</td>\n",
       "      <td>1046.000000</td>\n",
       "      <td>0.809754</td>\n",
       "      <td>3937.000000</td>\n",
       "      <td>3937.000000</td>\n",
       "    </tr>\n",
       "  </tbody>\n",
       "</table>\n",
       "</div>"
      ],
      "text/plain": [
       "                     0            1  accuracy    macro avg  weighted avg\n",
       "precision     0.817616     0.762832  0.809754     0.790224      0.803060\n",
       "recall        0.953649     0.412046  0.809754     0.682848      0.809754\n",
       "f1-score      0.880409     0.535071  0.809754     0.707740      0.788658\n",
       "support    2891.000000  1046.000000  0.809754  3937.000000   3937.000000"
      ]
     },
     "execution_count": 27,
     "metadata": {},
     "output_type": "execute_result"
    }
   ],
   "source": [
    "visuals_telco.knn(X_train, y_train)"
   ]
  },
  {
   "cell_type": "markdown",
   "id": "68b52935",
   "metadata": {},
   "source": [
    "<hr style=\"border-top: 5px groove blanchedalmond; margin-top: 1px; margin-bottom: 1px\"></hr>"
   ]
  },
  {
   "cell_type": "code",
   "execution_count": 28,
   "id": "3393f45a",
   "metadata": {},
   "outputs": [
    {
     "name": "stdout",
     "output_type": "stream",
     "text": [
      "Confusion Matrix:\n",
      "~~~~~~~~~~~~~~~~~~~~~~\n"
     ]
    },
    {
     "data": {
      "text/html": [
       "<div>\n",
       "<style scoped>\n",
       "    .dataframe tbody tr th:only-of-type {\n",
       "        vertical-align: middle;\n",
       "    }\n",
       "\n",
       "    .dataframe tbody tr th {\n",
       "        vertical-align: top;\n",
       "    }\n",
       "\n",
       "    .dataframe thead th {\n",
       "        text-align: right;\n",
       "    }\n",
       "</style>\n",
       "<table border=\"1\" class=\"dataframe\">\n",
       "  <thead>\n",
       "    <tr style=\"text-align: right;\">\n",
       "      <th></th>\n",
       "      <th>Pred. Retained</th>\n",
       "      <th>Pred. Churned</th>\n",
       "    </tr>\n",
       "  </thead>\n",
       "  <tbody>\n",
       "    <tr>\n",
       "      <th>Actually Retained</th>\n",
       "      <td>2757</td>\n",
       "      <td>134</td>\n",
       "    </tr>\n",
       "    <tr>\n",
       "      <th>Actually Churned</th>\n",
       "      <td>615</td>\n",
       "      <td>431</td>\n",
       "    </tr>\n",
       "  </tbody>\n",
       "</table>\n",
       "</div>"
      ],
      "text/plain": [
       "                   Pred. Retained  Pred. Churned\n",
       "Actually Retained            2757            134\n",
       "Actually Churned              615            431"
      ]
     },
     "execution_count": 28,
     "metadata": {},
     "output_type": "execute_result"
    }
   ],
   "source": [
    "visuals_telco.knn_confusion()"
   ]
  },
  {
   "cell_type": "markdown",
   "id": "85b0d61b",
   "metadata": {},
   "source": [
    "<h4 style=\"border-bottom: 5px groove blanchedalmond; margin-top: 1px; margin-bottom: 1px\">Logistic Regression</h4>"
   ]
  },
  {
   "cell_type": "code",
   "execution_count": 29,
   "id": "0ed46642",
   "metadata": {},
   "outputs": [
    {
     "name": "stdout",
     "output_type": "stream",
     "text": [
      "Logistic Regression using fiber optic internet service, e-check, and tenure as features\n",
      "Accuracy of Logistic Regression on training set: 0.80\n",
      "Classification report, Train:\n",
      "~~~~~~~~~~~~~~~~~~~~~~~~~~~~~\n"
     ]
    },
    {
     "data": {
      "text/html": [
       "<div>\n",
       "<style scoped>\n",
       "    .dataframe tbody tr th:only-of-type {\n",
       "        vertical-align: middle;\n",
       "    }\n",
       "\n",
       "    .dataframe tbody tr th {\n",
       "        vertical-align: top;\n",
       "    }\n",
       "\n",
       "    .dataframe thead th {\n",
       "        text-align: right;\n",
       "    }\n",
       "</style>\n",
       "<table border=\"1\" class=\"dataframe\">\n",
       "  <thead>\n",
       "    <tr style=\"text-align: right;\">\n",
       "      <th></th>\n",
       "      <th>0</th>\n",
       "      <th>1</th>\n",
       "      <th>accuracy</th>\n",
       "      <th>macro avg</th>\n",
       "      <th>weighted avg</th>\n",
       "    </tr>\n",
       "  </thead>\n",
       "  <tbody>\n",
       "    <tr>\n",
       "      <th>precision</th>\n",
       "      <td>0.825288</td>\n",
       "      <td>0.668044</td>\n",
       "      <td>0.796292</td>\n",
       "      <td>0.746666</td>\n",
       "      <td>0.783511</td>\n",
       "    </tr>\n",
       "    <tr>\n",
       "      <th>recall</th>\n",
       "      <td>0.916638</td>\n",
       "      <td>0.463671</td>\n",
       "      <td>0.796292</td>\n",
       "      <td>0.690154</td>\n",
       "      <td>0.796292</td>\n",
       "    </tr>\n",
       "    <tr>\n",
       "      <th>f1-score</th>\n",
       "      <td>0.868568</td>\n",
       "      <td>0.547404</td>\n",
       "      <td>0.796292</td>\n",
       "      <td>0.707986</td>\n",
       "      <td>0.783239</td>\n",
       "    </tr>\n",
       "    <tr>\n",
       "      <th>support</th>\n",
       "      <td>2891.000000</td>\n",
       "      <td>1046.000000</td>\n",
       "      <td>0.796292</td>\n",
       "      <td>3937.000000</td>\n",
       "      <td>3937.000000</td>\n",
       "    </tr>\n",
       "  </tbody>\n",
       "</table>\n",
       "</div>"
      ],
      "text/plain": [
       "                     0            1  accuracy    macro avg  weighted avg\n",
       "precision     0.825288     0.668044  0.796292     0.746666      0.783511\n",
       "recall        0.916638     0.463671  0.796292     0.690154      0.796292\n",
       "f1-score      0.868568     0.547404  0.796292     0.707986      0.783239\n",
       "support    2891.000000  1046.000000  0.796292  3937.000000   3937.000000"
      ]
     },
     "execution_count": 29,
     "metadata": {},
     "output_type": "execute_result"
    }
   ],
   "source": [
    "visuals_telco.lr(X_train, y_train)"
   ]
  },
  {
   "cell_type": "markdown",
   "id": "95b70da7",
   "metadata": {},
   "source": [
    "<hr style=\"border-top: 5px groove blanchedalmond; margin-top: 1px; margin-bottom: 1px\"></hr>"
   ]
  },
  {
   "cell_type": "code",
   "execution_count": 30,
   "id": "55aeefd6",
   "metadata": {},
   "outputs": [
    {
     "name": "stdout",
     "output_type": "stream",
     "text": [
      "Confusion Matrix:\n",
      "~~~~~~~~~~~~~~~~~~~~~~\n"
     ]
    },
    {
     "data": {
      "text/html": [
       "<div>\n",
       "<style scoped>\n",
       "    .dataframe tbody tr th:only-of-type {\n",
       "        vertical-align: middle;\n",
       "    }\n",
       "\n",
       "    .dataframe tbody tr th {\n",
       "        vertical-align: top;\n",
       "    }\n",
       "\n",
       "    .dataframe thead th {\n",
       "        text-align: right;\n",
       "    }\n",
       "</style>\n",
       "<table border=\"1\" class=\"dataframe\">\n",
       "  <thead>\n",
       "    <tr style=\"text-align: right;\">\n",
       "      <th></th>\n",
       "      <th>Pred. Retained</th>\n",
       "      <th>Pred. Churned</th>\n",
       "    </tr>\n",
       "  </thead>\n",
       "  <tbody>\n",
       "    <tr>\n",
       "      <th>Actually Retained</th>\n",
       "      <td>2650</td>\n",
       "      <td>241</td>\n",
       "    </tr>\n",
       "    <tr>\n",
       "      <th>Actually Churned</th>\n",
       "      <td>561</td>\n",
       "      <td>485</td>\n",
       "    </tr>\n",
       "  </tbody>\n",
       "</table>\n",
       "</div>"
      ],
      "text/plain": [
       "                   Pred. Retained  Pred. Churned\n",
       "Actually Retained            2650            241\n",
       "Actually Churned              561            485"
      ]
     },
     "execution_count": 30,
     "metadata": {},
     "output_type": "execute_result"
    }
   ],
   "source": [
    "visuals_telco.lr_confusion()"
   ]
  },
  {
   "cell_type": "markdown",
   "id": "fa207892",
   "metadata": {},
   "source": [
    "#### Takeaways:\n",
    "- The models provided similar improvement from the baseline in accuracy\n",
    "- Recall was a more challenging metric to improve, with Decision Tree and Logistic Regression showing the best metrics"
   ]
  },
  {
   "cell_type": "markdown",
   "id": "5e9ddc9b",
   "metadata": {},
   "source": [
    "<h1 style=\"border-bottom: 10px groove lightsteelblue; margin-top: 1px; margin-bottom: 1px\">Model Evaluation (Validate)</h1>"
   ]
  },
  {
   "cell_type": "markdown",
   "id": "4b9b8ca8",
   "metadata": {},
   "source": [
    "<h4 style=\"border-bottom: 5px groove blanchedalmond; margin-top: 1px; margin-bottom: 1px\">Decision Tree</h4>"
   ]
  },
  {
   "cell_type": "code",
   "execution_count": 31,
   "id": "a860d1da",
   "metadata": {},
   "outputs": [
    {
     "name": "stdout",
     "output_type": "stream",
     "text": [
      "Accuracy of Decision Tree Classifier on validation set: 0.7953\n",
      "Classification report, Validate:\n",
      "~~~~~~~~~~~~~~~~~~~~~~~~~~~~~~~~\n"
     ]
    },
    {
     "data": {
      "text/html": [
       "<div>\n",
       "<style scoped>\n",
       "    .dataframe tbody tr th:only-of-type {\n",
       "        vertical-align: middle;\n",
       "    }\n",
       "\n",
       "    .dataframe tbody tr th {\n",
       "        vertical-align: top;\n",
       "    }\n",
       "\n",
       "    .dataframe thead th {\n",
       "        text-align: right;\n",
       "    }\n",
       "</style>\n",
       "<table border=\"1\" class=\"dataframe\">\n",
       "  <thead>\n",
       "    <tr style=\"text-align: right;\">\n",
       "      <th></th>\n",
       "      <th>0</th>\n",
       "      <th>1</th>\n",
       "      <th>accuracy</th>\n",
       "      <th>macro avg</th>\n",
       "      <th>weighted avg</th>\n",
       "    </tr>\n",
       "  </thead>\n",
       "  <tbody>\n",
       "    <tr>\n",
       "      <th>precision</th>\n",
       "      <td>0.825897</td>\n",
       "      <td>0.662879</td>\n",
       "      <td>0.795309</td>\n",
       "      <td>0.744388</td>\n",
       "      <td>0.782564</td>\n",
       "    </tr>\n",
       "    <tr>\n",
       "      <th>recall</th>\n",
       "      <td>0.913843</td>\n",
       "      <td>0.467914</td>\n",
       "      <td>0.795309</td>\n",
       "      <td>0.690879</td>\n",
       "      <td>0.795309</td>\n",
       "    </tr>\n",
       "    <tr>\n",
       "      <th>f1-score</th>\n",
       "      <td>0.867647</td>\n",
       "      <td>0.548589</td>\n",
       "      <td>0.795309</td>\n",
       "      <td>0.708118</td>\n",
       "      <td>0.782837</td>\n",
       "    </tr>\n",
       "    <tr>\n",
       "      <th>support</th>\n",
       "      <td>1033.000000</td>\n",
       "      <td>374.000000</td>\n",
       "      <td>0.795309</td>\n",
       "      <td>1407.000000</td>\n",
       "      <td>1407.000000</td>\n",
       "    </tr>\n",
       "  </tbody>\n",
       "</table>\n",
       "</div>"
      ],
      "text/plain": [
       "                     0           1  accuracy    macro avg  weighted avg\n",
       "precision     0.825897    0.662879  0.795309     0.744388      0.782564\n",
       "recall        0.913843    0.467914  0.795309     0.690879      0.795309\n",
       "f1-score      0.867647    0.548589  0.795309     0.708118      0.782837\n",
       "support    1033.000000  374.000000  0.795309  1407.000000   1407.000000"
      ]
     },
     "execution_count": 31,
     "metadata": {},
     "output_type": "execute_result"
    }
   ],
   "source": [
    "visuals_telco.dt_v()"
   ]
  },
  {
   "cell_type": "markdown",
   "id": "0d3303c8",
   "metadata": {},
   "source": [
    "<h4 style=\"border-bottom: 5px groove blanchedalmond; margin-top: 1px; margin-bottom: 1px\">Random Forest</h4>"
   ]
  },
  {
   "cell_type": "code",
   "execution_count": 32,
   "id": "a01a58d6",
   "metadata": {},
   "outputs": [
    {
     "name": "stdout",
     "output_type": "stream",
     "text": [
      "Accuracy of Random Forest Classifier on validation set: 0.7996\n",
      "Classification report, Validate:\n",
      "~~~~~~~~~~~~~~~~~~~~~~~~~~~~~~~~\n"
     ]
    },
    {
     "data": {
      "text/html": [
       "<div>\n",
       "<style scoped>\n",
       "    .dataframe tbody tr th:only-of-type {\n",
       "        vertical-align: middle;\n",
       "    }\n",
       "\n",
       "    .dataframe tbody tr th {\n",
       "        vertical-align: top;\n",
       "    }\n",
       "\n",
       "    .dataframe thead th {\n",
       "        text-align: right;\n",
       "    }\n",
       "</style>\n",
       "<table border=\"1\" class=\"dataframe\">\n",
       "  <thead>\n",
       "    <tr style=\"text-align: right;\">\n",
       "      <th></th>\n",
       "      <th>0</th>\n",
       "      <th>1</th>\n",
       "      <th>accuracy</th>\n",
       "      <th>macro avg</th>\n",
       "      <th>weighted avg</th>\n",
       "    </tr>\n",
       "  </thead>\n",
       "  <tbody>\n",
       "    <tr>\n",
       "      <th>precision</th>\n",
       "      <td>0.820666</td>\n",
       "      <td>0.694915</td>\n",
       "      <td>0.799574</td>\n",
       "      <td>0.757791</td>\n",
       "      <td>0.787240</td>\n",
       "    </tr>\n",
       "    <tr>\n",
       "      <th>recall</th>\n",
       "      <td>0.930300</td>\n",
       "      <td>0.438503</td>\n",
       "      <td>0.799574</td>\n",
       "      <td>0.684401</td>\n",
       "      <td>0.799574</td>\n",
       "    </tr>\n",
       "    <tr>\n",
       "      <th>f1-score</th>\n",
       "      <td>0.872051</td>\n",
       "      <td>0.537705</td>\n",
       "      <td>0.799574</td>\n",
       "      <td>0.704878</td>\n",
       "      <td>0.783177</td>\n",
       "    </tr>\n",
       "    <tr>\n",
       "      <th>support</th>\n",
       "      <td>1033.000000</td>\n",
       "      <td>374.000000</td>\n",
       "      <td>0.799574</td>\n",
       "      <td>1407.000000</td>\n",
       "      <td>1407.000000</td>\n",
       "    </tr>\n",
       "  </tbody>\n",
       "</table>\n",
       "</div>"
      ],
      "text/plain": [
       "                     0           1  accuracy    macro avg  weighted avg\n",
       "precision     0.820666    0.694915  0.799574     0.757791      0.787240\n",
       "recall        0.930300    0.438503  0.799574     0.684401      0.799574\n",
       "f1-score      0.872051    0.537705  0.799574     0.704878      0.783177\n",
       "support    1033.000000  374.000000  0.799574  1407.000000   1407.000000"
      ]
     },
     "execution_count": 32,
     "metadata": {},
     "output_type": "execute_result"
    }
   ],
   "source": [
    "visuals_telco.rf_v()"
   ]
  },
  {
   "cell_type": "markdown",
   "id": "a6397018",
   "metadata": {},
   "source": [
    "<h4 style=\"border-bottom: 5px groove blanchedalmond; margin-top: 1px; margin-bottom: 1px\">K Nearest Neighbors</h4>"
   ]
  },
  {
   "cell_type": "code",
   "execution_count": 33,
   "id": "9929ac0a",
   "metadata": {},
   "outputs": [
    {
     "name": "stdout",
     "output_type": "stream",
     "text": [
      "Accuracy of K Nearest Neighbors Classifier on validation set: 0.7846\n",
      "Classification report, Validate:\n",
      "~~~~~~~~~~~~~~~~~~~~~~~~~~~~~~~~\n"
     ]
    },
    {
     "data": {
      "text/html": [
       "<div>\n",
       "<style scoped>\n",
       "    .dataframe tbody tr th:only-of-type {\n",
       "        vertical-align: middle;\n",
       "    }\n",
       "\n",
       "    .dataframe tbody tr th {\n",
       "        vertical-align: top;\n",
       "    }\n",
       "\n",
       "    .dataframe thead th {\n",
       "        text-align: right;\n",
       "    }\n",
       "</style>\n",
       "<table border=\"1\" class=\"dataframe\">\n",
       "  <thead>\n",
       "    <tr style=\"text-align: right;\">\n",
       "      <th></th>\n",
       "      <th>0</th>\n",
       "      <th>1</th>\n",
       "      <th>accuracy</th>\n",
       "      <th>macro avg</th>\n",
       "      <th>weighted avg</th>\n",
       "    </tr>\n",
       "  </thead>\n",
       "  <tbody>\n",
       "    <tr>\n",
       "      <th>precision</th>\n",
       "      <td>0.805184</td>\n",
       "      <td>0.668246</td>\n",
       "      <td>0.784648</td>\n",
       "      <td>0.736715</td>\n",
       "      <td>0.768784</td>\n",
       "    </tr>\n",
       "    <tr>\n",
       "      <th>recall</th>\n",
       "      <td>0.932236</td>\n",
       "      <td>0.377005</td>\n",
       "      <td>0.784648</td>\n",
       "      <td>0.654621</td>\n",
       "      <td>0.784648</td>\n",
       "    </tr>\n",
       "    <tr>\n",
       "      <th>f1-score</th>\n",
       "      <td>0.864065</td>\n",
       "      <td>0.482051</td>\n",
       "      <td>0.784648</td>\n",
       "      <td>0.673058</td>\n",
       "      <td>0.762520</td>\n",
       "    </tr>\n",
       "    <tr>\n",
       "      <th>support</th>\n",
       "      <td>1033.000000</td>\n",
       "      <td>374.000000</td>\n",
       "      <td>0.784648</td>\n",
       "      <td>1407.000000</td>\n",
       "      <td>1407.000000</td>\n",
       "    </tr>\n",
       "  </tbody>\n",
       "</table>\n",
       "</div>"
      ],
      "text/plain": [
       "                     0           1  accuracy    macro avg  weighted avg\n",
       "precision     0.805184    0.668246  0.784648     0.736715      0.768784\n",
       "recall        0.932236    0.377005  0.784648     0.654621      0.784648\n",
       "f1-score      0.864065    0.482051  0.784648     0.673058      0.762520\n",
       "support    1033.000000  374.000000  0.784648  1407.000000   1407.000000"
      ]
     },
     "execution_count": 33,
     "metadata": {},
     "output_type": "execute_result"
    }
   ],
   "source": [
    "visuals_telco.knn_v()"
   ]
  },
  {
   "cell_type": "markdown",
   "id": "87b7733a",
   "metadata": {},
   "source": [
    "<h4 style=\"border-bottom: 5px groove blanchedalmond; margin-top: 1px; margin-bottom: 1px\">Logistic Regression</h4>"
   ]
  },
  {
   "cell_type": "code",
   "execution_count": 34,
   "id": "a9779023",
   "metadata": {},
   "outputs": [
    {
     "name": "stdout",
     "output_type": "stream",
     "text": [
      "Accuracy of Logistic Regression classifier on validation set: 0.7989\n",
      "Classification report, Validate:\n",
      "~~~~~~~~~~~~~~~~~~~~~~~~~~~~~~~~\n"
     ]
    },
    {
     "data": {
      "text/html": [
       "<div>\n",
       "<style scoped>\n",
       "    .dataframe tbody tr th:only-of-type {\n",
       "        vertical-align: middle;\n",
       "    }\n",
       "\n",
       "    .dataframe tbody tr th {\n",
       "        vertical-align: top;\n",
       "    }\n",
       "\n",
       "    .dataframe thead th {\n",
       "        text-align: right;\n",
       "    }\n",
       "</style>\n",
       "<table border=\"1\" class=\"dataframe\">\n",
       "  <thead>\n",
       "    <tr style=\"text-align: right;\">\n",
       "      <th></th>\n",
       "      <th>0</th>\n",
       "      <th>1</th>\n",
       "      <th>accuracy</th>\n",
       "      <th>macro avg</th>\n",
       "      <th>weighted avg</th>\n",
       "    </tr>\n",
       "  </thead>\n",
       "  <tbody>\n",
       "    <tr>\n",
       "      <th>precision</th>\n",
       "      <td>0.835420</td>\n",
       "      <td>0.657439</td>\n",
       "      <td>0.798863</td>\n",
       "      <td>0.746430</td>\n",
       "      <td>0.788111</td>\n",
       "    </tr>\n",
       "    <tr>\n",
       "      <th>recall</th>\n",
       "      <td>0.904163</td>\n",
       "      <td>0.508021</td>\n",
       "      <td>0.798863</td>\n",
       "      <td>0.706092</td>\n",
       "      <td>0.798863</td>\n",
       "    </tr>\n",
       "    <tr>\n",
       "      <th>f1-score</th>\n",
       "      <td>0.868433</td>\n",
       "      <td>0.573152</td>\n",
       "      <td>0.798863</td>\n",
       "      <td>0.720793</td>\n",
       "      <td>0.789944</td>\n",
       "    </tr>\n",
       "    <tr>\n",
       "      <th>support</th>\n",
       "      <td>1033.000000</td>\n",
       "      <td>374.000000</td>\n",
       "      <td>0.798863</td>\n",
       "      <td>1407.000000</td>\n",
       "      <td>1407.000000</td>\n",
       "    </tr>\n",
       "  </tbody>\n",
       "</table>\n",
       "</div>"
      ],
      "text/plain": [
       "                     0           1  accuracy    macro avg  weighted avg\n",
       "precision     0.835420    0.657439  0.798863     0.746430      0.788111\n",
       "recall        0.904163    0.508021  0.798863     0.706092      0.798863\n",
       "f1-score      0.868433    0.573152  0.798863     0.720793      0.789944\n",
       "support    1033.000000  374.000000  0.798863  1407.000000   1407.000000"
      ]
     },
     "execution_count": 34,
     "metadata": {},
     "output_type": "execute_result"
    }
   ],
   "source": [
    "visuals_telco.lr_v()"
   ]
  },
  {
   "cell_type": "markdown",
   "id": "0c5945dc",
   "metadata": {},
   "source": [
    "<h3 style=\"border-bottom: 5px groove blanchedalmond; margin-top: 1px; margin-bottom: 1px\">Visualization on Validate</h3>"
   ]
  },
  {
   "cell_type": "code",
   "execution_count": 35,
   "id": "40d7d9e9",
   "metadata": {},
   "outputs": [
    {
     "data": {
      "image/png": "[encoded data removed]",
      "text/plain": [
       "<Figure size 576x684 with 2 Axes>"
      ]
     },
     "metadata": {},
     "output_type": "display_data"
    }
   ],
   "source": [
    "visuals_telco.viz_validate()"
   ]
  },
  {
   "cell_type": "markdown",
   "id": "cb302ee8",
   "metadata": {},
   "source": [
    "#### Takeaways\n",
    "\n",
    "- After modeling, the factors examined in this project were also the most helpful in predicting churn."
   ]
  },
  {
   "cell_type": "markdown",
   "id": "de32a683",
   "metadata": {},
   "source": [
    "<h3 style=\"border-bottom: 5px groove blanchedalmond; margin-top: 1px; margin-bottom: 1px\">Model Test Performance: Logistic Regression</h3>"
   ]
  },
  {
   "cell_type": "code",
   "execution_count": 36,
   "id": "90901c60",
   "metadata": {},
   "outputs": [
    {
     "name": "stdout",
     "output_type": "stream",
     "text": [
      "Accuracy of Logistic Regression classifier on test set: 0.7767\n",
      "Classification report, Validate:\n",
      "~~~~~~~~~~~~~~~~~~~~~~~~~~~~~~~~\n"
     ]
    },
    {
     "data": {
      "text/html": [
       "<div>\n",
       "<style scoped>\n",
       "    .dataframe tbody tr th:only-of-type {\n",
       "        vertical-align: middle;\n",
       "    }\n",
       "\n",
       "    .dataframe tbody tr th {\n",
       "        vertical-align: top;\n",
       "    }\n",
       "\n",
       "    .dataframe thead th {\n",
       "        text-align: right;\n",
       "    }\n",
       "</style>\n",
       "<table border=\"1\" class=\"dataframe\">\n",
       "  <thead>\n",
       "    <tr style=\"text-align: right;\">\n",
       "      <th></th>\n",
       "      <th>0</th>\n",
       "      <th>1</th>\n",
       "      <th>accuracy</th>\n",
       "      <th>macro avg</th>\n",
       "      <th>weighted avg</th>\n",
       "    </tr>\n",
       "  </thead>\n",
       "  <tbody>\n",
       "    <tr>\n",
       "      <th>precision</th>\n",
       "      <td>0.823088</td>\n",
       "      <td>0.601695</td>\n",
       "      <td>0.776659</td>\n",
       "      <td>0.712392</td>\n",
       "      <td>0.764199</td>\n",
       "    </tr>\n",
       "    <tr>\n",
       "      <th>recall</th>\n",
       "      <td>0.886199</td>\n",
       "      <td>0.474388</td>\n",
       "      <td>0.776659</td>\n",
       "      <td>0.680293</td>\n",
       "      <td>0.776659</td>\n",
       "    </tr>\n",
       "    <tr>\n",
       "      <th>f1-score</th>\n",
       "      <td>0.853478</td>\n",
       "      <td>0.530511</td>\n",
       "      <td>0.776659</td>\n",
       "      <td>0.691995</td>\n",
       "      <td>0.767571</td>\n",
       "    </tr>\n",
       "    <tr>\n",
       "      <th>support</th>\n",
       "      <td>1239.000000</td>\n",
       "      <td>449.000000</td>\n",
       "      <td>0.776659</td>\n",
       "      <td>1688.000000</td>\n",
       "      <td>1688.000000</td>\n",
       "    </tr>\n",
       "  </tbody>\n",
       "</table>\n",
       "</div>"
      ],
      "text/plain": [
       "                     0           1  accuracy    macro avg  weighted avg\n",
       "precision     0.823088    0.601695  0.776659     0.712392      0.764199\n",
       "recall        0.886199    0.474388  0.776659     0.680293      0.776659\n",
       "f1-score      0.853478    0.530511  0.776659     0.691995      0.767571\n",
       "support    1239.000000  449.000000  0.776659  1688.000000   1688.000000"
      ]
     },
     "execution_count": 36,
     "metadata": {},
     "output_type": "execute_result"
    }
   ],
   "source": [
    "visuals_telco.lr_test()"
   ]
  },
  {
   "cell_type": "markdown",
   "id": "bca53be0",
   "metadata": {},
   "source": [
    "#### Takeaways:\n",
    "\n",
    "- Logistic Regression gave an improvement of approximately 4.67% above baseline accuracy and had the highest recall on the positive case."
   ]
  },
  {
   "cell_type": "markdown",
   "id": "6b1bcc44",
   "metadata": {},
   "source": [
    "<h4 style=\"border-bottom: 5px groove blanchedalmond; margin-top: 1px; margin-bottom: 1px\">Visualization on Test</h4>"
   ]
  },
  {
   "cell_type": "code",
   "execution_count": 37,
   "id": "6856b2f7",
   "metadata": {},
   "outputs": [
    {
     "data": {
      "image/png": "[encoded data removed]",
      "text/plain": [
       "<Figure size 576x396 with 1 Axes>"
      ]
     },
     "metadata": {},
     "output_type": "display_data"
    }
   ],
   "source": [
    "visuals_telco.viz_auc()"
   ]
  },
  {
   "cell_type": "markdown",
   "id": "f3d55de5",
   "metadata": {},
   "source": [
    "#### Predictions.csv"
   ]
  },
  {
   "cell_type": "code",
   "execution_count": 38,
   "id": "b7d70021",
   "metadata": {},
   "outputs": [
    {
     "data": {
      "text/html": [
       "<div>\n",
       "<style scoped>\n",
       "    .dataframe tbody tr th:only-of-type {\n",
       "        vertical-align: middle;\n",
       "    }\n",
       "\n",
       "    .dataframe tbody tr th {\n",
       "        vertical-align: top;\n",
       "    }\n",
       "\n",
       "    .dataframe thead th {\n",
       "        text-align: right;\n",
       "    }\n",
       "</style>\n",
       "<table border=\"1\" class=\"dataframe\">\n",
       "  <thead>\n",
       "    <tr style=\"text-align: right;\">\n",
       "      <th></th>\n",
       "      <th>predictions</th>\n",
       "      <th>churn_probability</th>\n",
       "    </tr>\n",
       "  </thead>\n",
       "  <tbody>\n",
       "    <tr>\n",
       "      <th>0</th>\n",
       "      <td>0</td>\n",
       "      <td>0.392487</td>\n",
       "    </tr>\n",
       "    <tr>\n",
       "      <th>1</th>\n",
       "      <td>0</td>\n",
       "      <td>0.017570</td>\n",
       "    </tr>\n",
       "    <tr>\n",
       "      <th>2</th>\n",
       "      <td>0</td>\n",
       "      <td>0.096189</td>\n",
       "    </tr>\n",
       "    <tr>\n",
       "      <th>3</th>\n",
       "      <td>0</td>\n",
       "      <td>0.106854</td>\n",
       "    </tr>\n",
       "    <tr>\n",
       "      <th>4</th>\n",
       "      <td>0</td>\n",
       "      <td>0.025703</td>\n",
       "    </tr>\n",
       "    <tr>\n",
       "      <th>...</th>\n",
       "      <td>...</td>\n",
       "      <td>...</td>\n",
       "    </tr>\n",
       "    <tr>\n",
       "      <th>1683</th>\n",
       "      <td>0</td>\n",
       "      <td>0.124696</td>\n",
       "    </tr>\n",
       "    <tr>\n",
       "      <th>1684</th>\n",
       "      <td>0</td>\n",
       "      <td>0.206859</td>\n",
       "    </tr>\n",
       "    <tr>\n",
       "      <th>1685</th>\n",
       "      <td>0</td>\n",
       "      <td>0.084661</td>\n",
       "    </tr>\n",
       "    <tr>\n",
       "      <th>1686</th>\n",
       "      <td>0</td>\n",
       "      <td>0.254635</td>\n",
       "    </tr>\n",
       "    <tr>\n",
       "      <th>1687</th>\n",
       "      <td>1</td>\n",
       "      <td>0.731281</td>\n",
       "    </tr>\n",
       "  </tbody>\n",
       "</table>\n",
       "<p>1688 rows × 2 columns</p>\n",
       "</div>"
      ],
      "text/plain": [
       "      predictions  churn_probability\n",
       "0               0           0.392487\n",
       "1               0           0.017570\n",
       "2               0           0.096189\n",
       "3               0           0.106854\n",
       "4               0           0.025703\n",
       "...           ...                ...\n",
       "1683            0           0.124696\n",
       "1684            0           0.206859\n",
       "1685            0           0.084661\n",
       "1686            0           0.254635\n",
       "1687            1           0.731281\n",
       "\n",
       "[1688 rows x 2 columns]"
      ]
     },
     "execution_count": 38,
     "metadata": {},
     "output_type": "execute_result"
    }
   ],
   "source": [
    "visuals_telco.get_predictions_csv()"
   ]
  },
  {
   "cell_type": "markdown",
   "id": "0cc9d9fd",
   "metadata": {},
   "source": [
    "<h1 style=\"border-bottom:10px groove lightsteelblue; margin-top: 1px; margin-bottom: 1px\">Recommendations</h1>"
   ]
  },
  {
   "cell_type": "markdown",
   "id": "6a70225c",
   "metadata": {},
   "source": [
    "- Since credit card type and bank transfer are automatic processes, have Customer Service Representatives recommend switching to automatic plans.\n",
    "- Develop a point system that rewards Month to Month customers for consecutive months such as a small discount after three months.\n",
    "- Develop tiers for fiber optic internet service.\n",
    "- Set up text reminders for upcoming bills and auto-pay options to all customers since paperless billing may be attributed to forgetting to pay bills on-time.\n",
    "- Develop shorter-term contracts and incentivize contract renewal."
   ]
  },
  {
   "cell_type": "markdown",
   "id": "b70a11d9",
   "metadata": {},
   "source": [
    "<h1 style=\"border-bottom: 10px groove maroon; margin-top: 1px; margin-bottom: 1px\">Conclusion and Next Steps</h1>"
   ]
  },
  {
   "cell_type": "markdown",
   "id": "235919a4",
   "metadata": {},
   "source": [
    "- Demographically, churn has many factors including tenure, monthly charges, seniority, some internet services and e-check.\n",
    "- Feature engineering in future iterations, such as grouping internet services to see if that produces a more accurate model is something planned for future iteations of this project.\n",
    "- Some questions to address include finding the reasons for higher than average monthly charges and price sensitivity threshold for seniors. \n",
    "- I look forward to continue to build models to see if accuracy can be improved."
   ]
  }
 ],
 "metadata": {
  "kernelspec": {
   "display_name": "Python 3 (ipykernel)",
   "language": "python",
   "name": "python3"
  },
  "language_info": {
   "codemirror_mode": {
    "name": "ipython",
    "version": 3
   },
   "file_extension": ".py",
   "mimetype": "text/x-python",
   "name": "python",
   "nbconvert_exporter": "python",
   "pygments_lexer": "ipython3",
   "version": "3.9.12"
  },
  "vscode": {
   "interpreter": {
    "hash": "38cca0c38332a56087b24af0bc80247f4fced29cb4f7f437d91dc159adec9c4e"
   }
  }
 },
 "nbformat": 4,
 "nbformat_minor": 5
}
